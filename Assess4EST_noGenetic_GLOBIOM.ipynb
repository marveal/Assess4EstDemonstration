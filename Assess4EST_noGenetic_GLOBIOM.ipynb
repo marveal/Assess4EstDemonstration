{
 "cells": [
  {
   "cell_type": "markdown",
   "id": "38485328-a88f-48c2-94a7-f395ac90caf2",
   "metadata": {},
   "source": [
    "# Assess4EST optimization notebook"
   ]
  },
  {
   "cell_type": "markdown",
   "id": "85c1e33c-cc69-414c-81d8-8ccf8d838dfe",
   "metadata": {},
   "source": [
    "## Read the data"
   ]
  },
  {
   "cell_type": "code",
   "execution_count": 1,
   "id": "7b6136f1-ea29-410b-bc1c-db0133613b73",
   "metadata": {},
   "outputs": [],
   "source": [
    "import multiFunctionalOptimization as MFO"
   ]
  },
  {
   "cell_type": "code",
   "execution_count": 3,
   "id": "78d6289a-d7a5-4850-8f4d-fdfad58f2c0b",
   "metadata": {},
   "outputs": [
    {
     "data": {
      "text/plain": [
       "<module 'multiFunctionalOptimization' from 'C:\\\\Users\\\\mver\\\\Desktop\\\\multiforestOptimizationNotebook\\\\multiFunctionalOptimization.py'>"
      ]
     },
     "execution_count": 3,
     "metadata": {},
     "output_type": "execute_result"
    }
   ],
   "source": [
    "from importlib import reload\n",
    "reload(MFO)"
   ]
  },
  {
   "cell_type": "code",
   "execution_count": 5,
   "id": "1e0161ba-61e0-4a62-855b-e8d5af02910d",
   "metadata": {},
   "outputs": [
    {
     "data": {
      "text/plain": [
       "'Using CLP'"
      ]
     },
     "metadata": {},
     "output_type": "display_data"
    }
   ],
   "source": [
    "mfo = MFO.MultiFunctionalOptimization()"
   ]
  },
  {
   "cell_type": "code",
   "execution_count": 7,
   "id": "67c6c881-26f7-4133-9fb1-b467d5ba2489",
   "metadata": {},
   "outputs": [],
   "source": [
    "filename = \"FES_Assess4EST_RCP45_2024-07-26.csv\""
   ]
  },
  {
   "cell_type": "code",
   "execution_count": 9,
   "id": "f2cc2910-5512-4d84-a4f4-eb7e3959bfc4",
   "metadata": {},
   "outputs": [
    {
     "name": "stdout",
     "output_type": "stream",
     "text": [
      "CPU times: total: 8.12 s\n",
      "Wall time: 10.1 s\n"
     ]
    }
   ],
   "source": [
    "%%time\n",
    "mfo.readData(filename,standsEnu = \"plot_id\",delimeter = \",\",areaCol = \"tsd_ha2total\")"
   ]
  },
  {
   "cell_type": "code",
   "execution_count": 11,
   "id": "20caf5e1-913b-41d0-b67a-bdaca4b20be5",
   "metadata": {},
   "outputs": [],
   "source": [
    "mfo.finalizeData(initialTime = 2018)"
   ]
  },
  {
   "cell_type": "code",
   "execution_count": 13,
   "id": "c44684dc-2893-47bb-a9d9-ed722567426d",
   "metadata": {},
   "outputs": [
    {
     "data": {
      "text/plain": [
       "Index(['period', 'pulp_vol_m3', 'harv_cost_nok_m3', 'harv_cost_u150',\n",
       "       'harv_cost_u200', 'biomass_CO2_change_t_period', 'net_increment_m3',\n",
       "       'is_old', 'is_broadleave', 'MiS_classified_plot', 'bilberry_cover_pr',\n",
       "       'GROT_kt_TotNor', 'vol_saw_m3', 'saw_CO2_t', 'saw_CO2_change_t',\n",
       "       'vol_panels_m3', 'panels_CO2_t', 'panels_CO2_change_t',\n",
       "       'is_steep_terrain', 'is_vernskog', 'is_city_forest', 'shan',\n",
       "       'class_dbh', 'Nsp', 'ha2total', 'management', 'harv_net_Mnok_TotNor',\n",
       "       'harv_vol_Mm3_TotNor', 'saw_vol_Mm3_TotNor', 'pulp_vol_Mm3_TotNor',\n",
       "       'dead_vol_Mm3_TotNor', 'tsd_ha2total', 'saw_CO2_change_Kt_TotNor',\n",
       "       'saw_CO2_Kt_TotNor', 'panels_CO2_change_Kt_TotNor', 'HWP_C02_Kt_TotNor',\n",
       "       'Bilberry_ha_TotNor', 'MiS_ha', 'SawTimber_Mm3_year', 'pulp_Mm3_year',\n",
       "       'GROT_t', 'GROT_m3', 'GROT_Mm3', 'Residues_Mm3_year',\n",
       "       'harvest_demands_Mm3_year', 'regime.class', 'finalFelling', 'is_CCF',\n",
       "       'is_nomanagement', 'is_vers_or_ste', 'FinaL_versk', 'FinaL_city',\n",
       "       'High_classdbh', 'Sha_highclassdbh_Tot_Nor', 'Relative_shan',\n",
       "       'Relative_ha2total', 'Relative_dead_vol_Mm3_TotNor',\n",
       "       'Relative_tsd_ha2total', 'Relative_MiS_ha',\n",
       "       'Relative_Sha_highclassdbh_Tot_Nor'],\n",
       "      dtype='object')"
      ]
     },
     "execution_count": 13,
     "metadata": {},
     "output_type": "execute_result"
    }
   ],
   "source": [
    "mfo.data.columns"
   ]
  },
  {
   "cell_type": "code",
   "execution_count": 15,
   "id": "12b6db68-1801-4270-9a37-ddf9716b0e6b",
   "metadata": {},
   "outputs": [
    {
     "data": {
      "text/html": [
       "<div>\n",
       "<style scoped>\n",
       "    .dataframe tbody tr th:only-of-type {\n",
       "        vertical-align: middle;\n",
       "    }\n",
       "\n",
       "    .dataframe tbody tr th {\n",
       "        vertical-align: top;\n",
       "    }\n",
       "\n",
       "    .dataframe thead th {\n",
       "        text-align: right;\n",
       "    }\n",
       "</style>\n",
       "<table border=\"1\" class=\"dataframe\">\n",
       "  <thead>\n",
       "    <tr style=\"text-align: right;\">\n",
       "      <th></th>\n",
       "      <th></th>\n",
       "      <th></th>\n",
       "      <th>period</th>\n",
       "      <th>pulp_vol_m3</th>\n",
       "      <th>harv_cost_nok_m3</th>\n",
       "      <th>harv_cost_u150</th>\n",
       "      <th>harv_cost_u200</th>\n",
       "      <th>biomass_CO2_change_t_period</th>\n",
       "      <th>net_increment_m3</th>\n",
       "      <th>is_old</th>\n",
       "      <th>is_broadleave</th>\n",
       "      <th>MiS_classified_plot</th>\n",
       "      <th>...</th>\n",
       "      <th>FinaL_versk</th>\n",
       "      <th>FinaL_city</th>\n",
       "      <th>High_classdbh</th>\n",
       "      <th>Sha_highclassdbh_Tot_Nor</th>\n",
       "      <th>Relative_shan</th>\n",
       "      <th>Relative_ha2total</th>\n",
       "      <th>Relative_dead_vol_Mm3_TotNor</th>\n",
       "      <th>Relative_tsd_ha2total</th>\n",
       "      <th>Relative_MiS_ha</th>\n",
       "      <th>Relative_Sha_highclassdbh_Tot_Nor</th>\n",
       "    </tr>\n",
       "    <tr>\n",
       "      <th>plot_id</th>\n",
       "      <th>year</th>\n",
       "      <th>regime</th>\n",
       "      <th></th>\n",
       "      <th></th>\n",
       "      <th></th>\n",
       "      <th></th>\n",
       "      <th></th>\n",
       "      <th></th>\n",
       "      <th></th>\n",
       "      <th></th>\n",
       "      <th></th>\n",
       "      <th></th>\n",
       "      <th></th>\n",
       "      <th></th>\n",
       "      <th></th>\n",
       "      <th></th>\n",
       "      <th></th>\n",
       "      <th></th>\n",
       "      <th></th>\n",
       "      <th></th>\n",
       "      <th></th>\n",
       "      <th></th>\n",
       "      <th></th>\n",
       "    </tr>\n",
       "  </thead>\n",
       "  <tbody>\n",
       "    <tr>\n",
       "      <th rowspan=\"5\" valign=\"top\">A03059-0</th>\n",
       "      <th rowspan=\"5\" valign=\"top\">2023</th>\n",
       "      <th>SimOpt_extensive_0</th>\n",
       "      <td>t1</td>\n",
       "      <td>0.0</td>\n",
       "      <td>0.0</td>\n",
       "      <td>0</td>\n",
       "      <td>0</td>\n",
       "      <td>11952.080236</td>\n",
       "      <td>11067.20264</td>\n",
       "      <td>0</td>\n",
       "      <td>0</td>\n",
       "      <td>0</td>\n",
       "      <td>...</td>\n",
       "      <td>0</td>\n",
       "      <td>0</td>\n",
       "      <td>1</td>\n",
       "      <td>185.828111</td>\n",
       "      <td>0.000046</td>\n",
       "      <td>0.00011</td>\n",
       "      <td>0.000051</td>\n",
       "      <td>0.00011</td>\n",
       "      <td>0.0</td>\n",
       "      <td>0.000057</td>\n",
       "    </tr>\n",
       "    <tr>\n",
       "      <th>SimOpt_extensive_long_0</th>\n",
       "      <td>t1</td>\n",
       "      <td>0.0</td>\n",
       "      <td>0.0</td>\n",
       "      <td>0</td>\n",
       "      <td>0</td>\n",
       "      <td>11952.080236</td>\n",
       "      <td>11067.20264</td>\n",
       "      <td>0</td>\n",
       "      <td>0</td>\n",
       "      <td>0</td>\n",
       "      <td>...</td>\n",
       "      <td>0</td>\n",
       "      <td>0</td>\n",
       "      <td>1</td>\n",
       "      <td>185.828111</td>\n",
       "      <td>0.000046</td>\n",
       "      <td>0.00011</td>\n",
       "      <td>0.000051</td>\n",
       "      <td>0.00011</td>\n",
       "      <td>0.0</td>\n",
       "      <td>0.000057</td>\n",
       "    </tr>\n",
       "    <tr>\n",
       "      <th>SimOpt_int_0</th>\n",
       "      <td>t1</td>\n",
       "      <td>0.0</td>\n",
       "      <td>0.0</td>\n",
       "      <td>0</td>\n",
       "      <td>0</td>\n",
       "      <td>11952.080236</td>\n",
       "      <td>11067.20264</td>\n",
       "      <td>0</td>\n",
       "      <td>0</td>\n",
       "      <td>0</td>\n",
       "      <td>...</td>\n",
       "      <td>0</td>\n",
       "      <td>0</td>\n",
       "      <td>1</td>\n",
       "      <td>185.828111</td>\n",
       "      <td>0.000046</td>\n",
       "      <td>0.00011</td>\n",
       "      <td>0.000051</td>\n",
       "      <td>0.00011</td>\n",
       "      <td>0.0</td>\n",
       "      <td>0.000057</td>\n",
       "    </tr>\n",
       "    <tr>\n",
       "      <th>SimOpt_int_short_0</th>\n",
       "      <td>t1</td>\n",
       "      <td>0.0</td>\n",
       "      <td>0.0</td>\n",
       "      <td>0</td>\n",
       "      <td>0</td>\n",
       "      <td>11952.080236</td>\n",
       "      <td>11067.20264</td>\n",
       "      <td>0</td>\n",
       "      <td>0</td>\n",
       "      <td>0</td>\n",
       "      <td>...</td>\n",
       "      <td>0</td>\n",
       "      <td>0</td>\n",
       "      <td>1</td>\n",
       "      <td>185.828111</td>\n",
       "      <td>0.000046</td>\n",
       "      <td>0.00011</td>\n",
       "      <td>0.000051</td>\n",
       "      <td>0.00011</td>\n",
       "      <td>0.0</td>\n",
       "      <td>0.000057</td>\n",
       "    </tr>\n",
       "    <tr>\n",
       "      <th>SimOpt_no_management_0</th>\n",
       "      <td>t1</td>\n",
       "      <td>0.0</td>\n",
       "      <td>0.0</td>\n",
       "      <td>0</td>\n",
       "      <td>0</td>\n",
       "      <td>11952.080236</td>\n",
       "      <td>11067.20264</td>\n",
       "      <td>0</td>\n",
       "      <td>0</td>\n",
       "      <td>0</td>\n",
       "      <td>...</td>\n",
       "      <td>0</td>\n",
       "      <td>0</td>\n",
       "      <td>1</td>\n",
       "      <td>185.828111</td>\n",
       "      <td>0.000046</td>\n",
       "      <td>0.00011</td>\n",
       "      <td>0.000051</td>\n",
       "      <td>0.00011</td>\n",
       "      <td>0.0</td>\n",
       "      <td>0.000057</td>\n",
       "    </tr>\n",
       "  </tbody>\n",
       "</table>\n",
       "<p>5 rows × 60 columns</p>\n",
       "</div>"
      ],
      "text/plain": [
       "                                      period  pulp_vol_m3  harv_cost_nok_m3  \\\n",
       "plot_id  year regime                                                          \n",
       "A03059-0 2023 SimOpt_extensive_0          t1          0.0               0.0   \n",
       "              SimOpt_extensive_long_0     t1          0.0               0.0   \n",
       "              SimOpt_int_0                t1          0.0               0.0   \n",
       "              SimOpt_int_short_0          t1          0.0               0.0   \n",
       "              SimOpt_no_management_0      t1          0.0               0.0   \n",
       "\n",
       "                                       harv_cost_u150  harv_cost_u200  \\\n",
       "plot_id  year regime                                                    \n",
       "A03059-0 2023 SimOpt_extensive_0                    0               0   \n",
       "              SimOpt_extensive_long_0               0               0   \n",
       "              SimOpt_int_0                          0               0   \n",
       "              SimOpt_int_short_0                    0               0   \n",
       "              SimOpt_no_management_0                0               0   \n",
       "\n",
       "                                       biomass_CO2_change_t_period  \\\n",
       "plot_id  year regime                                                 \n",
       "A03059-0 2023 SimOpt_extensive_0                      11952.080236   \n",
       "              SimOpt_extensive_long_0                 11952.080236   \n",
       "              SimOpt_int_0                            11952.080236   \n",
       "              SimOpt_int_short_0                      11952.080236   \n",
       "              SimOpt_no_management_0                  11952.080236   \n",
       "\n",
       "                                       net_increment_m3  is_old  \\\n",
       "plot_id  year regime                                              \n",
       "A03059-0 2023 SimOpt_extensive_0            11067.20264       0   \n",
       "              SimOpt_extensive_long_0       11067.20264       0   \n",
       "              SimOpt_int_0                  11067.20264       0   \n",
       "              SimOpt_int_short_0            11067.20264       0   \n",
       "              SimOpt_no_management_0        11067.20264       0   \n",
       "\n",
       "                                       is_broadleave  MiS_classified_plot  \\\n",
       "plot_id  year regime                                                        \n",
       "A03059-0 2023 SimOpt_extensive_0                   0                    0   \n",
       "              SimOpt_extensive_long_0              0                    0   \n",
       "              SimOpt_int_0                         0                    0   \n",
       "              SimOpt_int_short_0                   0                    0   \n",
       "              SimOpt_no_management_0               0                    0   \n",
       "\n",
       "                                       ...  FinaL_versk  FinaL_city  \\\n",
       "plot_id  year regime                   ...                            \n",
       "A03059-0 2023 SimOpt_extensive_0       ...            0           0   \n",
       "              SimOpt_extensive_long_0  ...            0           0   \n",
       "              SimOpt_int_0             ...            0           0   \n",
       "              SimOpt_int_short_0       ...            0           0   \n",
       "              SimOpt_no_management_0   ...            0           0   \n",
       "\n",
       "                                       High_classdbh  \\\n",
       "plot_id  year regime                                   \n",
       "A03059-0 2023 SimOpt_extensive_0                   1   \n",
       "              SimOpt_extensive_long_0              1   \n",
       "              SimOpt_int_0                         1   \n",
       "              SimOpt_int_short_0                   1   \n",
       "              SimOpt_no_management_0               1   \n",
       "\n",
       "                                       Sha_highclassdbh_Tot_Nor  \\\n",
       "plot_id  year regime                                              \n",
       "A03059-0 2023 SimOpt_extensive_0                     185.828111   \n",
       "              SimOpt_extensive_long_0                185.828111   \n",
       "              SimOpt_int_0                           185.828111   \n",
       "              SimOpt_int_short_0                     185.828111   \n",
       "              SimOpt_no_management_0                 185.828111   \n",
       "\n",
       "                                       Relative_shan  Relative_ha2total  \\\n",
       "plot_id  year regime                                                      \n",
       "A03059-0 2023 SimOpt_extensive_0            0.000046            0.00011   \n",
       "              SimOpt_extensive_long_0       0.000046            0.00011   \n",
       "              SimOpt_int_0                  0.000046            0.00011   \n",
       "              SimOpt_int_short_0            0.000046            0.00011   \n",
       "              SimOpt_no_management_0        0.000046            0.00011   \n",
       "\n",
       "                                       Relative_dead_vol_Mm3_TotNor  \\\n",
       "plot_id  year regime                                                  \n",
       "A03059-0 2023 SimOpt_extensive_0                           0.000051   \n",
       "              SimOpt_extensive_long_0                      0.000051   \n",
       "              SimOpt_int_0                                 0.000051   \n",
       "              SimOpt_int_short_0                           0.000051   \n",
       "              SimOpt_no_management_0                       0.000051   \n",
       "\n",
       "                                       Relative_tsd_ha2total  Relative_MiS_ha  \\\n",
       "plot_id  year regime                                                            \n",
       "A03059-0 2023 SimOpt_extensive_0                     0.00011              0.0   \n",
       "              SimOpt_extensive_long_0                0.00011              0.0   \n",
       "              SimOpt_int_0                           0.00011              0.0   \n",
       "              SimOpt_int_short_0                     0.00011              0.0   \n",
       "              SimOpt_no_management_0                 0.00011              0.0   \n",
       "\n",
       "                                       Relative_Sha_highclassdbh_Tot_Nor  \n",
       "plot_id  year regime                                                      \n",
       "A03059-0 2023 SimOpt_extensive_0                                0.000057  \n",
       "              SimOpt_extensive_long_0                           0.000057  \n",
       "              SimOpt_int_0                                      0.000057  \n",
       "              SimOpt_int_short_0                                0.000057  \n",
       "              SimOpt_no_management_0                            0.000057  \n",
       "\n",
       "[5 rows x 60 columns]"
      ]
     },
     "execution_count": 15,
     "metadata": {},
     "output_type": "execute_result"
    }
   ],
   "source": [
    "mfo.data.head()"
   ]
  },
  {
   "cell_type": "code",
   "execution_count": 17,
   "id": "5f28a88d-d4c2-4a52-b686-89507af526cf",
   "metadata": {},
   "outputs": [
    {
     "data": {
      "text/html": [
       "<div>\n",
       "<style scoped>\n",
       "    .dataframe tbody tr th:only-of-type {\n",
       "        vertical-align: middle;\n",
       "    }\n",
       "\n",
       "    .dataframe tbody tr th {\n",
       "        vertical-align: top;\n",
       "    }\n",
       "\n",
       "    .dataframe thead th {\n",
       "        text-align: right;\n",
       "    }\n",
       "</style>\n",
       "<table border=\"1\" class=\"dataframe\">\n",
       "  <thead>\n",
       "    <tr style=\"text-align: right;\">\n",
       "      <th></th>\n",
       "      <th></th>\n",
       "      <th></th>\n",
       "      <th>period</th>\n",
       "      <th>pulp_vol_m3</th>\n",
       "      <th>harv_cost_nok_m3</th>\n",
       "      <th>harv_cost_u150</th>\n",
       "      <th>harv_cost_u200</th>\n",
       "      <th>biomass_CO2_change_t_period</th>\n",
       "      <th>net_increment_m3</th>\n",
       "      <th>is_old</th>\n",
       "      <th>is_broadleave</th>\n",
       "      <th>MiS_classified_plot</th>\n",
       "      <th>...</th>\n",
       "      <th>harvest_demands_Mm3_year</th>\n",
       "      <th>regime.class</th>\n",
       "      <th>finalFelling</th>\n",
       "      <th>is_CCF</th>\n",
       "      <th>is_nomanagement</th>\n",
       "      <th>is_vers_or_ste</th>\n",
       "      <th>FinaL_versk</th>\n",
       "      <th>FinaL_city</th>\n",
       "      <th>High_classdbh</th>\n",
       "      <th>Sha_highclassdbh_Tot_Nor</th>\n",
       "    </tr>\n",
       "    <tr>\n",
       "      <th>plot_id</th>\n",
       "      <th>year</th>\n",
       "      <th>regime</th>\n",
       "      <th></th>\n",
       "      <th></th>\n",
       "      <th></th>\n",
       "      <th></th>\n",
       "      <th></th>\n",
       "      <th></th>\n",
       "      <th></th>\n",
       "      <th></th>\n",
       "      <th></th>\n",
       "      <th></th>\n",
       "      <th></th>\n",
       "      <th></th>\n",
       "      <th></th>\n",
       "      <th></th>\n",
       "      <th></th>\n",
       "      <th></th>\n",
       "      <th></th>\n",
       "      <th></th>\n",
       "      <th></th>\n",
       "      <th></th>\n",
       "      <th></th>\n",
       "    </tr>\n",
       "  </thead>\n",
       "  <tbody>\n",
       "    <tr>\n",
       "      <th>A03059-0</th>\n",
       "      <th>2018</th>\n",
       "      <th>SimOpt_no_management_0</th>\n",
       "      <td>t0</td>\n",
       "      <td>0.0</td>\n",
       "      <td>0.0</td>\n",
       "      <td>0</td>\n",
       "      <td>0</td>\n",
       "      <td>0.0</td>\n",
       "      <td>0.0</td>\n",
       "      <td>0</td>\n",
       "      <td>0</td>\n",
       "      <td>0</td>\n",
       "      <td>...</td>\n",
       "      <td>0.0</td>\n",
       "      <td>no_management</td>\n",
       "      <td>False</td>\n",
       "      <td>1</td>\n",
       "      <td>0</td>\n",
       "      <td>0</td>\n",
       "      <td>0</td>\n",
       "      <td>0</td>\n",
       "      <td>1</td>\n",
       "      <td>178.909481</td>\n",
       "    </tr>\n",
       "    <tr>\n",
       "      <th>A03095-1</th>\n",
       "      <th>2018</th>\n",
       "      <th>SimOpt_no_management_0</th>\n",
       "      <td>t0</td>\n",
       "      <td>0.0</td>\n",
       "      <td>0.0</td>\n",
       "      <td>0</td>\n",
       "      <td>0</td>\n",
       "      <td>0.0</td>\n",
       "      <td>0.0</td>\n",
       "      <td>0</td>\n",
       "      <td>0</td>\n",
       "      <td>0</td>\n",
       "      <td>...</td>\n",
       "      <td>0.0</td>\n",
       "      <td>no_management</td>\n",
       "      <td>False</td>\n",
       "      <td>1</td>\n",
       "      <td>0</td>\n",
       "      <td>0</td>\n",
       "      <td>0</td>\n",
       "      <td>0</td>\n",
       "      <td>1</td>\n",
       "      <td>0.000000</td>\n",
       "    </tr>\n",
       "    <tr>\n",
       "      <th>A03102-0</th>\n",
       "      <th>2018</th>\n",
       "      <th>SimOpt_no_management_0</th>\n",
       "      <td>t0</td>\n",
       "      <td>0.0</td>\n",
       "      <td>0.0</td>\n",
       "      <td>0</td>\n",
       "      <td>0</td>\n",
       "      <td>0.0</td>\n",
       "      <td>0.0</td>\n",
       "      <td>0</td>\n",
       "      <td>0</td>\n",
       "      <td>0</td>\n",
       "      <td>...</td>\n",
       "      <td>0.0</td>\n",
       "      <td>no_management</td>\n",
       "      <td>False</td>\n",
       "      <td>1</td>\n",
       "      <td>0</td>\n",
       "      <td>0</td>\n",
       "      <td>0</td>\n",
       "      <td>0</td>\n",
       "      <td>0</td>\n",
       "      <td>0.000000</td>\n",
       "    </tr>\n",
       "    <tr>\n",
       "      <th>A03152-0</th>\n",
       "      <th>2018</th>\n",
       "      <th>SimOpt_no_management_0</th>\n",
       "      <td>t0</td>\n",
       "      <td>0.0</td>\n",
       "      <td>0.0</td>\n",
       "      <td>0</td>\n",
       "      <td>0</td>\n",
       "      <td>0.0</td>\n",
       "      <td>0.0</td>\n",
       "      <td>1</td>\n",
       "      <td>5</td>\n",
       "      <td>1</td>\n",
       "      <td>...</td>\n",
       "      <td>0.0</td>\n",
       "      <td>no_management</td>\n",
       "      <td>False</td>\n",
       "      <td>1</td>\n",
       "      <td>0</td>\n",
       "      <td>1</td>\n",
       "      <td>0</td>\n",
       "      <td>0</td>\n",
       "      <td>1</td>\n",
       "      <td>1381.653616</td>\n",
       "    </tr>\n",
       "    <tr>\n",
       "      <th>A03153-0</th>\n",
       "      <th>2018</th>\n",
       "      <th>SimOpt_no_management_0</th>\n",
       "      <td>t0</td>\n",
       "      <td>0.0</td>\n",
       "      <td>0.0</td>\n",
       "      <td>0</td>\n",
       "      <td>0</td>\n",
       "      <td>0.0</td>\n",
       "      <td>0.0</td>\n",
       "      <td>0</td>\n",
       "      <td>0</td>\n",
       "      <td>0</td>\n",
       "      <td>...</td>\n",
       "      <td>0.0</td>\n",
       "      <td>no_management</td>\n",
       "      <td>False</td>\n",
       "      <td>1</td>\n",
       "      <td>0</td>\n",
       "      <td>1</td>\n",
       "      <td>0</td>\n",
       "      <td>0</td>\n",
       "      <td>0</td>\n",
       "      <td>0.000000</td>\n",
       "    </tr>\n",
       "  </tbody>\n",
       "</table>\n",
       "<p>5 rows × 54 columns</p>\n",
       "</div>"
      ],
      "text/plain": [
       "                                     period  pulp_vol_m3  harv_cost_nok_m3  \\\n",
       "plot_id  year regime                                                         \n",
       "A03059-0 2018 SimOpt_no_management_0     t0          0.0               0.0   \n",
       "A03095-1 2018 SimOpt_no_management_0     t0          0.0               0.0   \n",
       "A03102-0 2018 SimOpt_no_management_0     t0          0.0               0.0   \n",
       "A03152-0 2018 SimOpt_no_management_0     t0          0.0               0.0   \n",
       "A03153-0 2018 SimOpt_no_management_0     t0          0.0               0.0   \n",
       "\n",
       "                                      harv_cost_u150  harv_cost_u200  \\\n",
       "plot_id  year regime                                                   \n",
       "A03059-0 2018 SimOpt_no_management_0               0               0   \n",
       "A03095-1 2018 SimOpt_no_management_0               0               0   \n",
       "A03102-0 2018 SimOpt_no_management_0               0               0   \n",
       "A03152-0 2018 SimOpt_no_management_0               0               0   \n",
       "A03153-0 2018 SimOpt_no_management_0               0               0   \n",
       "\n",
       "                                      biomass_CO2_change_t_period  \\\n",
       "plot_id  year regime                                                \n",
       "A03059-0 2018 SimOpt_no_management_0                          0.0   \n",
       "A03095-1 2018 SimOpt_no_management_0                          0.0   \n",
       "A03102-0 2018 SimOpt_no_management_0                          0.0   \n",
       "A03152-0 2018 SimOpt_no_management_0                          0.0   \n",
       "A03153-0 2018 SimOpt_no_management_0                          0.0   \n",
       "\n",
       "                                      net_increment_m3  is_old  is_broadleave  \\\n",
       "plot_id  year regime                                                            \n",
       "A03059-0 2018 SimOpt_no_management_0               0.0       0              0   \n",
       "A03095-1 2018 SimOpt_no_management_0               0.0       0              0   \n",
       "A03102-0 2018 SimOpt_no_management_0               0.0       0              0   \n",
       "A03152-0 2018 SimOpt_no_management_0               0.0       1              5   \n",
       "A03153-0 2018 SimOpt_no_management_0               0.0       0              0   \n",
       "\n",
       "                                      MiS_classified_plot  ...  \\\n",
       "plot_id  year regime                                       ...   \n",
       "A03059-0 2018 SimOpt_no_management_0                    0  ...   \n",
       "A03095-1 2018 SimOpt_no_management_0                    0  ...   \n",
       "A03102-0 2018 SimOpt_no_management_0                    0  ...   \n",
       "A03152-0 2018 SimOpt_no_management_0                    1  ...   \n",
       "A03153-0 2018 SimOpt_no_management_0                    0  ...   \n",
       "\n",
       "                                      harvest_demands_Mm3_year   regime.class  \\\n",
       "plot_id  year regime                                                            \n",
       "A03059-0 2018 SimOpt_no_management_0                       0.0  no_management   \n",
       "A03095-1 2018 SimOpt_no_management_0                       0.0  no_management   \n",
       "A03102-0 2018 SimOpt_no_management_0                       0.0  no_management   \n",
       "A03152-0 2018 SimOpt_no_management_0                       0.0  no_management   \n",
       "A03153-0 2018 SimOpt_no_management_0                       0.0  no_management   \n",
       "\n",
       "                                      finalFelling  is_CCF  is_nomanagement  \\\n",
       "plot_id  year regime                                                          \n",
       "A03059-0 2018 SimOpt_no_management_0         False       1                0   \n",
       "A03095-1 2018 SimOpt_no_management_0         False       1                0   \n",
       "A03102-0 2018 SimOpt_no_management_0         False       1                0   \n",
       "A03152-0 2018 SimOpt_no_management_0         False       1                0   \n",
       "A03153-0 2018 SimOpt_no_management_0         False       1                0   \n",
       "\n",
       "                                      is_vers_or_ste  FinaL_versk  FinaL_city  \\\n",
       "plot_id  year regime                                                            \n",
       "A03059-0 2018 SimOpt_no_management_0               0            0           0   \n",
       "A03095-1 2018 SimOpt_no_management_0               0            0           0   \n",
       "A03102-0 2018 SimOpt_no_management_0               0            0           0   \n",
       "A03152-0 2018 SimOpt_no_management_0               1            0           0   \n",
       "A03153-0 2018 SimOpt_no_management_0               1            0           0   \n",
       "\n",
       "                                      High_classdbh  Sha_highclassdbh_Tot_Nor  \n",
       "plot_id  year regime                                                           \n",
       "A03059-0 2018 SimOpt_no_management_0              1                178.909481  \n",
       "A03095-1 2018 SimOpt_no_management_0              1                  0.000000  \n",
       "A03102-0 2018 SimOpt_no_management_0              0                  0.000000  \n",
       "A03152-0 2018 SimOpt_no_management_0              1               1381.653616  \n",
       "A03153-0 2018 SimOpt_no_management_0              0                  0.000000  \n",
       "\n",
       "[5 rows x 54 columns]"
      ]
     },
     "execution_count": 17,
     "metadata": {},
     "output_type": "execute_result"
    }
   ],
   "source": [
    "mfo.initialData.head()"
   ]
  },
  {
   "cell_type": "markdown",
   "id": "84b858ff-abc6-4aba-bd04-186423f28d68",
   "metadata": {},
   "source": [
    "## Start defining the optimization problem"
   ]
  },
  {
   "cell_type": "markdown",
   "id": "144b47bd-bdbf-4e5d-b06e-598e8e9a9612",
   "metadata": {},
   "source": [
    "**Objectives**\n",
    "- Maximize harvest value nok (Wood)\n",
    "- Maximize GROT in plots with cost under 150 NOK (Bionergy)\n",
    "- Maximize CO2 in harvested wood products (Climate regulation)"
   ]
  },
  {
   "cell_type": "markdown",
   "id": "582368d7-18c2-4432-aa6c-aa1690d772a1",
   "metadata": {},
   "source": [
    "**Constraints**\n",
    "- Maximize GROT in plot with harvest cost under 150 nok plots (Bionergy)\n",
    "- Not decreasing MIS_area (Biodiversity)\n",
    "- Not decreasing C02 in wood compared to 2018 value (Climate regulation)"
   ]
  },
  {
   "cell_type": "markdown",
   "id": "ff367e99-ee7e-46e0-83d1-2f6433dd6d79",
   "metadata": {},
   "source": [
    "### Define objectives"
   ]
  },
  {
   "cell_type": "markdown",
   "id": "930b94df-ac4f-485f-b298-949af079f943",
   "metadata": {},
   "source": [
    "Objective format:\n",
    "\n",
    "Unique_key : (Long human readable name,column name in data, max/min objective, year wise aggregation, stand wise aggregation [, target year])"
   ]
  },
  {
   "cell_type": "code",
   "execution_count": 24,
   "id": "4b50becf-4a52-4f4e-a9a1-d2bfa2195f95",
   "metadata": {},
   "outputs": [],
   "source": [
    "Wood_production =  {\n",
    "    #objective\n",
    "    ## harv_net_Mnork_TotNor net value of saw and pulp for spruce pine and birch\n",
    "    \"harvest_netvalue_Mnok_sum\": [\"Maximize netvalue (MAX Millions nok/m2) max\",\n",
    "                             \"harv_net_Mnok_TotNor\", \"max\",\"sum\",\"sum\"], \n",
    "}"
   ]
  },
  {
   "cell_type": "code",
   "execution_count": 26,
   "id": "a09048a1-1b5a-47dd-bfc4-e6dff530e617",
   "metadata": {},
   "outputs": [],
   "source": [
    "\n",
    "Bionergy = {\n",
    "    ## maximize GROT in plots with cost under 150 NOK (økt, lønnsom produksjon av bioenergi (p. 14)) \n",
    "    ##  increased, profitable production of bioenergy\n",
    "    #objective\n",
    "     \"GROTIncreaseInHarvCost150\":[\"Maximize GROT in plots with harvest cost under 150 (maX)\",\n",
    "                                  \"GROT_kt_TotNor\", \"max\",\"minYearlyIncrease\",\"subsetSum\",\"harv_cost_u150\"],\n",
    "   \n",
    "   \n",
    "}"
   ]
  },
  {
   "cell_type": "code",
   "execution_count": 28,
   "id": "8e87a14a-ab3b-4347-971a-46c142ed5260",
   "metadata": {},
   "outputs": [],
   "source": [
    "Biodiversity = {\n",
    "    ## non decreasing MIS classified area (non decreasing total deadwood, \n",
    "    ## big trees (> 40cm) in old stands, big trees, and old stand with mixtures of broadleaves and conifers)\n",
    "     #constraints\n",
    "    \"MiSMaxMin\":[\"Not decreasing area of MiS classified plots (not decrease)\",\n",
    "                   \"Relative_MiS_ha\", \"max\",\"min\",\"sum\"], \n",
    "  \n",
    "}"
   ]
  },
  {
   "cell_type": "code",
   "execution_count": 30,
   "id": "bdce5139-7942-4b87-b036-81650c41c56f",
   "metadata": {},
   "outputs": [],
   "source": [
    "Climate_regulation = {\n",
    "    ## maximize CO2 in HWP, and non-decreasing HWP compared to 2019    \n",
    "    \"CO2_HWP_increase\":[\"CO2_HWPMinimum yearly increase  (maximize\",\n",
    "                       \"HWP_C02_Kt_TotNor\", \"max\",\"minYearlyIncrease\",\"sum\"],\n",
    "    \n",
    "    #\"CO2_HWP_kt\": [\"Co2 storage in wooden products (maximize kilotonnnes over all years)\",\n",
    "            #       \"HWP_C02_Kt_TotNor\", \"max\",\"sum\",\"sum\"],\n",
    "\n",
    "}"
   ]
  },
  {
   "cell_type": "code",
   "execution_count": 32,
   "id": "333fb129-2473-4760-8a28-9c524810eca8",
   "metadata": {},
   "outputs": [],
   "source": [
    "objectives = {\n",
    "    #**globiom_NDC,\n",
    "    **Wood_production,\n",
    "    **Bionergy,\n",
    "    **Biodiversity,\n",
    "    **Climate_regulation,\n",
    "}"
   ]
  },
  {
   "cell_type": "code",
   "execution_count": 34,
   "id": "79f831fd-a59c-4887-bc83-e51e7d7809d5",
   "metadata": {},
   "outputs": [
    {
     "data": {
      "text/plain": [
       "4"
      ]
     },
     "execution_count": 34,
     "metadata": {},
     "output_type": "execute_result"
    }
   ],
   "source": [
    "len(objectives)"
   ]
  },
  {
   "cell_type": "code",
   "execution_count": 36,
   "id": "ae1a61c5-bdb8-4d72-9dcd-08ab844e4151",
   "metadata": {},
   "outputs": [
    {
     "data": {
      "text/plain": [
       "dict_keys(['harvest_netvalue_Mnok_sum', 'GROTIncreaseInHarvCost150', 'MiSMaxMin', 'CO2_HWP_increase'])"
      ]
     },
     "execution_count": 36,
     "metadata": {},
     "output_type": "execute_result"
    }
   ],
   "source": [
    "objectives.keys()"
   ]
  },
  {
   "cell_type": "code",
   "execution_count": 38,
   "id": "cc512610-b75a-4e82-9a25-219eaf12ef19",
   "metadata": {},
   "outputs": [
    {
     "data": {
      "text/plain": [
       "Index(['period', 'pulp_vol_m3', 'harv_cost_nok_m3', 'harv_cost_u150',\n",
       "       'harv_cost_u200', 'biomass_CO2_change_t_period', 'net_increment_m3',\n",
       "       'is_old', 'is_broadleave', 'MiS_classified_plot', 'bilberry_cover_pr',\n",
       "       'GROT_kt_TotNor', 'vol_saw_m3', 'saw_CO2_t', 'saw_CO2_change_t',\n",
       "       'vol_panels_m3', 'panels_CO2_t', 'panels_CO2_change_t',\n",
       "       'is_steep_terrain', 'is_vernskog', 'is_city_forest', 'shan',\n",
       "       'class_dbh', 'Nsp', 'ha2total', 'management', 'harv_net_Mnok_TotNor',\n",
       "       'harv_vol_Mm3_TotNor', 'saw_vol_Mm3_TotNor', 'pulp_vol_Mm3_TotNor',\n",
       "       'dead_vol_Mm3_TotNor', 'tsd_ha2total', 'saw_CO2_change_Kt_TotNor',\n",
       "       'saw_CO2_Kt_TotNor', 'panels_CO2_change_Kt_TotNor', 'HWP_C02_Kt_TotNor',\n",
       "       'Bilberry_ha_TotNor', 'MiS_ha', 'SawTimber_Mm3_year', 'pulp_Mm3_year',\n",
       "       'GROT_t', 'GROT_m3', 'GROT_Mm3', 'Residues_Mm3_year',\n",
       "       'harvest_demands_Mm3_year', 'regime.class', 'finalFelling', 'is_CCF',\n",
       "       'is_nomanagement', 'is_vers_or_ste', 'FinaL_versk', 'FinaL_city',\n",
       "       'High_classdbh', 'Sha_highclassdbh_Tot_Nor', 'Relative_shan',\n",
       "       'Relative_ha2total', 'Relative_dead_vol_Mm3_TotNor',\n",
       "       'Relative_tsd_ha2total', 'Relative_MiS_ha',\n",
       "       'Relative_Sha_highclassdbh_Tot_Nor'],\n",
       "      dtype='object')"
      ]
     },
     "execution_count": 38,
     "metadata": {},
     "output_type": "execute_result"
    }
   ],
   "source": [
    "mfo.data.columns"
   ]
  },
  {
   "cell_type": "code",
   "execution_count": 40,
   "id": "a568e59b-8fd8-4566-b1e4-49245af0c840",
   "metadata": {},
   "outputs": [
    {
     "data": {
      "text/plain": [
       "'Defining objectives'"
      ]
     },
     "metadata": {},
     "output_type": "display_data"
    },
    {
     "data": {
      "text/plain": [
       "'Aggregating stand wise'"
      ]
     },
     "metadata": {},
     "output_type": "display_data"
    },
    {
     "name": "stderr",
     "output_type": "stream",
     "text": [
      "100%|████████████████████████████████████████████████████████████████████████████████████| 4/4 [02:19<00:00, 34.83s/it]\n"
     ]
    },
    {
     "data": {
      "text/plain": [
       "'Aggregating year wise'"
      ]
     },
     "metadata": {},
     "output_type": "display_data"
    },
    {
     "name": "stdout",
     "output_type": "stream",
     "text": [
      "100%|██████████████████████████████████████████████████████████████████████████████████| 4/4 [00:00<00:00, 4002.20it/s]\n"
     ]
    },
    {
     "data": {
      "text/plain": [
       "'Objectives added'"
      ]
     },
     "metadata": {},
     "output_type": "display_data"
    }
   ],
   "source": [
    "mfo.defineObjectives(objectiveTypes= objectives)"
   ]
  },
  {
   "cell_type": "markdown",
   "id": "7e348b60-c7b7-41f1-86e5-1c326993de07",
   "metadata": {},
   "source": [
    "## GLOBIOM timber demands "
   ]
  },
  {
   "cell_type": "markdown",
   "id": "852e1d96-e7c9-4a6c-b536-72be6d7be189",
   "metadata": {},
   "source": [
    "NDC scenario, matches with RCP 4.5"
   ]
  },
  {
   "cell_type": "code",
   "execution_count": 42,
   "id": "fce19d52-926d-409d-941f-7f002ad23795",
   "metadata": {},
   "outputs": [],
   "source": [
    "import pandas as pd"
   ]
  },
  {
   "cell_type": "code",
   "execution_count": 44,
   "id": "7fec3e44-a704-4c7b-9352-23d39e14e6cd",
   "metadata": {},
   "outputs": [],
   "source": [
    "demands_NDC = pd.read_csv(\"globiomNDC_all.csv\")"
   ]
  },
  {
   "cell_type": "code",
   "execution_count": 46,
   "id": "e37458d7-1f92-4f5f-b6d7-3f617129c58d",
   "metadata": {},
   "outputs": [
    {
     "data": {
      "text/html": [
       "<div>\n",
       "<style scoped>\n",
       "    .dataframe tbody tr th:only-of-type {\n",
       "        vertical-align: middle;\n",
       "    }\n",
       "\n",
       "    .dataframe tbody tr th {\n",
       "        vertical-align: top;\n",
       "    }\n",
       "\n",
       "    .dataframe thead th {\n",
       "        text-align: right;\n",
       "    }\n",
       "</style>\n",
       "<table border=\"1\" class=\"dataframe\">\n",
       "  <thead>\n",
       "    <tr style=\"text-align: right;\">\n",
       "      <th></th>\n",
       "      <th>Unnamed: 0</th>\n",
       "      <th>year</th>\n",
       "      <th>GSawlog</th>\n",
       "      <th>GPulp</th>\n",
       "      <th>Gsawpulp</th>\n",
       "      <th>GFuel</th>\n",
       "      <th>GResidues</th>\n",
       "      <th>GPulpFuel</th>\n",
       "      <th>Globiom_demands</th>\n",
       "    </tr>\n",
       "  </thead>\n",
       "  <tbody>\n",
       "    <tr>\n",
       "      <th>0</th>\n",
       "      <td>2</td>\n",
       "      <td>2023</td>\n",
       "      <td>7.212155</td>\n",
       "      <td>5.080900</td>\n",
       "      <td>12.293055</td>\n",
       "      <td>1.918407</td>\n",
       "      <td>0.9</td>\n",
       "      <td>7.00</td>\n",
       "      <td>14.211462</td>\n",
       "    </tr>\n",
       "    <tr>\n",
       "      <th>1</th>\n",
       "      <td>3</td>\n",
       "      <td>2028</td>\n",
       "      <td>7.628689</td>\n",
       "      <td>4.909294</td>\n",
       "      <td>12.537983</td>\n",
       "      <td>1.928164</td>\n",
       "      <td>0.9</td>\n",
       "      <td>6.84</td>\n",
       "      <td>14.466147</td>\n",
       "    </tr>\n",
       "    <tr>\n",
       "      <th>2</th>\n",
       "      <td>4</td>\n",
       "      <td>2033</td>\n",
       "      <td>8.013292</td>\n",
       "      <td>4.766846</td>\n",
       "      <td>12.780139</td>\n",
       "      <td>1.932067</td>\n",
       "      <td>0.9</td>\n",
       "      <td>6.70</td>\n",
       "      <td>14.712206</td>\n",
       "    </tr>\n",
       "    <tr>\n",
       "      <th>3</th>\n",
       "      <td>5</td>\n",
       "      <td>2038</td>\n",
       "      <td>8.376610</td>\n",
       "      <td>4.643837</td>\n",
       "      <td>13.020446</td>\n",
       "      <td>1.932067</td>\n",
       "      <td>0.9</td>\n",
       "      <td>6.58</td>\n",
       "      <td>14.952513</td>\n",
       "    </tr>\n",
       "    <tr>\n",
       "      <th>4</th>\n",
       "      <td>6</td>\n",
       "      <td>2043</td>\n",
       "      <td>8.741598</td>\n",
       "      <td>4.542264</td>\n",
       "      <td>13.283862</td>\n",
       "      <td>1.932067</td>\n",
       "      <td>0.9</td>\n",
       "      <td>6.47</td>\n",
       "      <td>15.215929</td>\n",
       "    </tr>\n",
       "  </tbody>\n",
       "</table>\n",
       "</div>"
      ],
      "text/plain": [
       "   Unnamed: 0  year   GSawlog     GPulp   Gsawpulp     GFuel  GResidues  \\\n",
       "0           2  2023  7.212155  5.080900  12.293055  1.918407        0.9   \n",
       "1           3  2028  7.628689  4.909294  12.537983  1.928164        0.9   \n",
       "2           4  2033  8.013292  4.766846  12.780139  1.932067        0.9   \n",
       "3           5  2038  8.376610  4.643837  13.020446  1.932067        0.9   \n",
       "4           6  2043  8.741598  4.542264  13.283862  1.932067        0.9   \n",
       "\n",
       "   GPulpFuel  Globiom_demands  \n",
       "0       7.00        14.211462  \n",
       "1       6.84        14.466147  \n",
       "2       6.70        14.712206  \n",
       "3       6.58        14.952513  \n",
       "4       6.47        15.215929  "
      ]
     },
     "execution_count": 46,
     "metadata": {},
     "output_type": "execute_result"
    }
   ],
   "source": [
    "demands_NDC.head()"
   ]
  },
  {
   "cell_type": "code",
   "execution_count": 48,
   "id": "d0a35c76-ef1f-431c-9e99-e9b55ff09ffa",
   "metadata": {},
   "outputs": [],
   "source": [
    "Globiom_dem = demands_NDC[\"Globiom_demands\"]*5\n",
    "Globiom_dem = Globiom_dem.to_list()"
   ]
  },
  {
   "cell_type": "code",
   "execution_count": 50,
   "id": "9bf1340c-87bc-4cb2-b485-3620e621995a",
   "metadata": {},
   "outputs": [],
   "source": [
    "mfo.addGlobiomTargets(\n",
    "    {\n",
    "    \n",
    "    \"GHarvDemands\": Globiom_dem\n",
    "    },\n",
    "    {\n",
    "         #'saw_vol_Mm3_TotNor', 'pulp_vol_Mm3_TotNor'\n",
    "        \n",
    "        #Log is converted primarily into log, and sencondary into pulp; no transferrate, both are volumes under bark\n",
    "        \"harv_vol_Mm3_TotNor\":\n",
    "            {\"GHarvDemands\":[1,\"primary\"]},\n",
    "            \n",
    "                          \n",
    "    },exactMatching=True\n",
    "    \n",
    ")"
   ]
  },
  {
   "cell_type": "markdown",
   "id": "f2ba1670-09d1-4da5-8d23-30e69c71c9d6",
   "metadata": {},
   "source": [
    "## Define constraints"
   ]
  },
  {
   "cell_type": "code",
   "execution_count": 56,
   "id": "5d132a7c-a369-4c5c-8172-82d36c7ff0a7",
   "metadata": {},
   "outputs": [],
   "source": [
    "constraints = {\n",
    "    \"TotalpulpDec\": [\"Species reduction\",\n",
    "                   \"Max harvest reduction 10%\", \"pulp_Mm3_year\",1, 0.10], \n",
    "    \n",
    "    \"TotalPulpIncre\": [\"Species increase\",\n",
    "                   \"Max pulp increase\", \"pulp_Mm3_year\",1, 0.40],\n",
    "\n",
    "}"
   ]
  },
  {
   "cell_type": "code",
   "execution_count": 58,
   "id": "aaf56e0b-6465-4c5c-a13e-f8b2ee2d99e4",
   "metadata": {},
   "outputs": [
    {
     "data": {
      "text/plain": [
       "'Species increase'"
      ]
     },
     "metadata": {},
     "output_type": "display_data"
    }
   ],
   "source": [
    "mfo.defineConstraints(constraints)"
   ]
  },
  {
   "cell_type": "markdown",
   "id": "da71b003-0b61-4a62-b511-47c9788a5e3a",
   "metadata": {},
   "source": [
    "## Calculate objective ranges"
   ]
  },
  {
   "cell_type": "code",
   "execution_count": 60,
   "id": "120df0fc-ae63-434d-b43a-64897c4159b9",
   "metadata": {},
   "outputs": [
    {
     "data": {
      "text/plain": [
       "'Calculating objective ranges'"
      ]
     },
     "metadata": {},
     "output_type": "display_data"
    },
    {
     "name": "stdout",
     "output_type": "stream",
     "text": [
      "  0%|                                                                                            | 0/5 [00:00<?, ?it/s]"
     ]
    },
    {
     "data": {
      "text/plain": [
       "'Optimizing for Maximize netvalue (MAX Millions nok/m2) max'"
      ]
     },
     "metadata": {},
     "output_type": "display_data"
    },
    {
     "data": {
      "text/plain": [
       "'Found an optimal solution in 6 seconds'"
      ]
     },
     "metadata": {},
     "output_type": "display_data"
    },
    {
     "data": {
      "text/plain": [
       "'Objective values are:'"
      ]
     },
     "metadata": {},
     "output_type": "display_data"
    },
    {
     "data": {
      "text/plain": [
       "'Maximize netvalue (MAX Millions nok/m2) max'"
      ]
     },
     "metadata": {},
     "output_type": "display_data"
    },
    {
     "data": {
      "text/plain": [
       "116664.77269522786"
      ]
     },
     "metadata": {},
     "output_type": "display_data"
    },
    {
     "data": {
      "text/plain": [
       "'Maximize GROT in plots with harvest cost under 150 (maX)'"
      ]
     },
     "metadata": {},
     "output_type": "display_data"
    },
    {
     "data": {
      "text/plain": [
       "-3690.515722015381"
      ]
     },
     "metadata": {},
     "output_type": "display_data"
    },
    {
     "data": {
      "text/plain": [
       "'Not decreasing area of MiS classified plots (not decrease)'"
      ]
     },
     "metadata": {},
     "output_type": "display_data"
    },
    {
     "data": {
      "text/plain": [
       "0.0"
      ]
     },
     "metadata": {},
     "output_type": "display_data"
    },
    {
     "data": {
      "text/plain": [
       "'CO2_HWPMinimum yearly increase  (maximize'"
      ]
     },
     "metadata": {},
     "output_type": "display_data"
    },
    {
     "data": {
      "text/plain": [
       "-124629.62777279396"
      ]
     },
     "metadata": {},
     "output_type": "display_data"
    },
    {
     "data": {
      "text/plain": [
       "'Relative meeting of globiom target for GHarvDemands'"
      ]
     },
     "metadata": {},
     "output_type": "display_data"
    },
    {
     "data": {
      "text/plain": [
       "195.25288907454683"
      ]
     },
     "metadata": {},
     "output_type": "display_data"
    },
    {
     "name": "stdout",
     "output_type": "stream",
     "text": [
      " 20%|████████████████▊                                                                   | 1/5 [00:06<00:27,  6.93s/it]"
     ]
    },
    {
     "data": {
      "text/plain": [
       "'Optimizing for Maximize GROT in plots with harvest cost under 150 (maX)'"
      ]
     },
     "metadata": {},
     "output_type": "display_data"
    },
    {
     "data": {
      "text/plain": [
       "'Found an optimal solution in 6 seconds'"
      ]
     },
     "metadata": {},
     "output_type": "display_data"
    },
    {
     "data": {
      "text/plain": [
       "'Objective values are:'"
      ]
     },
     "metadata": {},
     "output_type": "display_data"
    },
    {
     "data": {
      "text/plain": [
       "'Maximize netvalue (MAX Millions nok/m2) max'"
      ]
     },
     "metadata": {},
     "output_type": "display_data"
    },
    {
     "data": {
      "text/plain": [
       "41789.5820988727"
      ]
     },
     "metadata": {},
     "output_type": "display_data"
    },
    {
     "data": {
      "text/plain": [
       "'Maximize GROT in plots with harvest cost under 150 (maX)'"
      ]
     },
     "metadata": {},
     "output_type": "display_data"
    },
    {
     "data": {
      "text/plain": [
       "1674.0290214274773"
      ]
     },
     "metadata": {},
     "output_type": "display_data"
    },
    {
     "data": {
      "text/plain": [
       "'Not decreasing area of MiS classified plots (not decrease)'"
      ]
     },
     "metadata": {},
     "output_type": "display_data"
    },
    {
     "data": {
      "text/plain": [
       "0.0"
      ]
     },
     "metadata": {},
     "output_type": "display_data"
    },
    {
     "data": {
      "text/plain": [
       "'CO2_HWPMinimum yearly increase  (maximize'"
      ]
     },
     "metadata": {},
     "output_type": "display_data"
    },
    {
     "data": {
      "text/plain": [
       "-164254.4620901844"
      ]
     },
     "metadata": {},
     "output_type": "display_data"
    },
    {
     "data": {
      "text/plain": [
       "'Relative meeting of globiom target for GHarvDemands'"
      ]
     },
     "metadata": {},
     "output_type": "display_data"
    },
    {
     "data": {
      "text/plain": [
       "151.44956084712925"
      ]
     },
     "metadata": {},
     "output_type": "display_data"
    },
    {
     "name": "stdout",
     "output_type": "stream",
     "text": [
      " 40%|█████████████████████████████████▌                                                  | 2/5 [00:13<00:20,  6.87s/it]"
     ]
    },
    {
     "data": {
      "text/plain": [
       "'Optimizing for Not decreasing area of MiS classified plots (not decrease)'"
      ]
     },
     "metadata": {},
     "output_type": "display_data"
    },
    {
     "data": {
      "text/plain": [
       "'Found an optimal solution in 8 seconds'"
      ]
     },
     "metadata": {},
     "output_type": "display_data"
    },
    {
     "data": {
      "text/plain": [
       "'Objective values are:'"
      ]
     },
     "metadata": {},
     "output_type": "display_data"
    },
    {
     "data": {
      "text/plain": [
       "'Maximize netvalue (MAX Millions nok/m2) max'"
      ]
     },
     "metadata": {},
     "output_type": "display_data"
    },
    {
     "data": {
      "text/plain": [
       "32586.23370885268"
      ]
     },
     "metadata": {},
     "output_type": "display_data"
    },
    {
     "data": {
      "text/plain": [
       "'Maximize GROT in plots with harvest cost under 150 (maX)'"
      ]
     },
     "metadata": {},
     "output_type": "display_data"
    },
    {
     "data": {
      "text/plain": [
       "-1154.4115406003602"
      ]
     },
     "metadata": {},
     "output_type": "display_data"
    },
    {
     "data": {
      "text/plain": [
       "'Not decreasing area of MiS classified plots (not decrease)'"
      ]
     },
     "metadata": {},
     "output_type": "display_data"
    },
    {
     "data": {
      "text/plain": [
       "1.107399499550144"
      ]
     },
     "metadata": {},
     "output_type": "display_data"
    },
    {
     "data": {
      "text/plain": [
       "'CO2_HWPMinimum yearly increase  (maximize'"
      ]
     },
     "metadata": {},
     "output_type": "display_data"
    },
    {
     "data": {
      "text/plain": [
       "-158532.3451317354"
      ]
     },
     "metadata": {},
     "output_type": "display_data"
    },
    {
     "data": {
      "text/plain": [
       "'Relative meeting of globiom target for GHarvDemands'"
      ]
     },
     "metadata": {},
     "output_type": "display_data"
    },
    {
     "data": {
      "text/plain": [
       "102.33717391943615"
      ]
     },
     "metadata": {},
     "output_type": "display_data"
    },
    {
     "name": "stdout",
     "output_type": "stream",
     "text": [
      " 60%|██████████████████████████████████████████████████▍                                 | 3/5 [00:22<00:15,  7.74s/it]"
     ]
    },
    {
     "data": {
      "text/plain": [
       "'Optimizing for CO2_HWPMinimum yearly increase  (maximize'"
      ]
     },
     "metadata": {},
     "output_type": "display_data"
    },
    {
     "data": {
      "text/plain": [
       "'Found an optimal solution in 64 seconds'"
      ]
     },
     "metadata": {},
     "output_type": "display_data"
    },
    {
     "data": {
      "text/plain": [
       "'Objective values are:'"
      ]
     },
     "metadata": {},
     "output_type": "display_data"
    },
    {
     "data": {
      "text/plain": [
       "'Maximize netvalue (MAX Millions nok/m2) max'"
      ]
     },
     "metadata": {},
     "output_type": "display_data"
    },
    {
     "data": {
      "text/plain": [
       "24729.70342669684"
      ]
     },
     "metadata": {},
     "output_type": "display_data"
    },
    {
     "data": {
      "text/plain": [
       "'Maximize GROT in plots with harvest cost under 150 (maX)'"
      ]
     },
     "metadata": {},
     "output_type": "display_data"
    },
    {
     "data": {
      "text/plain": [
       "-15410.638061156553"
      ]
     },
     "metadata": {},
     "output_type": "display_data"
    },
    {
     "data": {
      "text/plain": [
       "'Not decreasing area of MiS classified plots (not decrease)'"
      ]
     },
     "metadata": {},
     "output_type": "display_data"
    },
    {
     "data": {
      "text/plain": [
       "0.0"
      ]
     },
     "metadata": {},
     "output_type": "display_data"
    },
    {
     "data": {
      "text/plain": [
       "'CO2_HWPMinimum yearly increase  (maximize'"
      ]
     },
     "metadata": {},
     "output_type": "display_data"
    },
    {
     "data": {
      "text/plain": [
       "24610.332005195734"
      ]
     },
     "metadata": {},
     "output_type": "display_data"
    },
    {
     "data": {
      "text/plain": [
       "'Relative meeting of globiom target for GHarvDemands'"
      ]
     },
     "metadata": {},
     "output_type": "display_data"
    },
    {
     "data": {
      "text/plain": [
       "634.305139292547"
      ]
     },
     "metadata": {},
     "output_type": "display_data"
    },
    {
     "name": "stdout",
     "output_type": "stream",
     "text": [
      " 80%|███████████████████████████████████████████████████████████████████▏                | 4/5 [01:27<00:30, 30.33s/it]"
     ]
    },
    {
     "data": {
      "text/plain": [
       "'Optimizing for Relative meeting of globiom target for GHarvDemands'"
      ]
     },
     "metadata": {},
     "output_type": "display_data"
    },
    {
     "data": {
      "text/plain": [
       "'Found an optimal solution in 16 seconds'"
      ]
     },
     "metadata": {},
     "output_type": "display_data"
    },
    {
     "data": {
      "text/plain": [
       "'Objective values are:'"
      ]
     },
     "metadata": {},
     "output_type": "display_data"
    },
    {
     "data": {
      "text/plain": [
       "'Maximize netvalue (MAX Millions nok/m2) max'"
      ]
     },
     "metadata": {},
     "output_type": "display_data"
    },
    {
     "data": {
      "text/plain": [
       "-6524.655236661916"
      ]
     },
     "metadata": {},
     "output_type": "display_data"
    },
    {
     "data": {
      "text/plain": [
       "'Maximize GROT in plots with harvest cost under 150 (maX)'"
      ]
     },
     "metadata": {},
     "output_type": "display_data"
    },
    {
     "data": {
      "text/plain": [
       "-2009.6969951908895"
      ]
     },
     "metadata": {},
     "output_type": "display_data"
    },
    {
     "data": {
      "text/plain": [
       "'Not decreasing area of MiS classified plots (not decrease)'"
      ]
     },
     "metadata": {},
     "output_type": "display_data"
    },
    {
     "data": {
      "text/plain": [
       "0.0"
      ]
     },
     "metadata": {},
     "output_type": "display_data"
    },
    {
     "data": {
      "text/plain": [
       "'CO2_HWPMinimum yearly increase  (maximize'"
      ]
     },
     "metadata": {},
     "output_type": "display_data"
    },
    {
     "data": {
      "text/plain": [
       "-125026.91411371104"
      ]
     },
     "metadata": {},
     "output_type": "display_data"
    },
    {
     "data": {
      "text/plain": [
       "'Relative meeting of globiom target for GHarvDemands'"
      ]
     },
     "metadata": {},
     "output_type": "display_data"
    },
    {
     "data": {
      "text/plain": [
       "0.0"
      ]
     },
     "metadata": {},
     "output_type": "display_data"
    },
    {
     "name": "stdout",
     "output_type": "stream",
     "text": [
      "100%|████████████████████████████████████████████████████████████████████████████████████| 5/5 [01:44<00:00, 20.84s/it]\n"
     ]
    }
   ],
   "source": [
    "mfo.calculateObjectiveRanges()"
   ]
  },
  {
   "cell_type": "code",
   "execution_count": 62,
   "id": "2a94f9ae-a77c-443e-a794-7ba45d0f7b22",
   "metadata": {},
   "outputs": [
    {
     "data": {
      "text/plain": [
       "{'harvest_netvalue_Mnok_sum': (-6524.655236661916, 116664.77269522786),\n",
       " 'GROTIncreaseInHarvCost150': (-15410.638061156553, 1674.0290214274773),\n",
       " 'MiSMaxMin': (0.0, 1.107399499550144),\n",
       " 'CO2_HWP_increase': (-164254.4620901844, 24610.332005195734),\n",
       " 'GlobiomTargetForGHarvDemands': (0.0, 634.305139292547)}"
      ]
     },
     "execution_count": 62,
     "metadata": {},
     "output_type": "execute_result"
    }
   ],
   "source": [
    "mfo.objectiveRanges"
   ]
  },
  {
   "cell_type": "markdown",
   "id": "f671e031-4552-4ded-a688-fa660e818eed",
   "metadata": {},
   "source": [
    "## Show GUI"
   ]
  },
  {
   "cell_type": "code",
   "execution_count": 64,
   "id": "4e73abc5-c76d-42d4-b3a8-0dae5ad1625a",
   "metadata": {},
   "outputs": [
    {
     "data": {
      "text/html": [
       "<style>\n",
       "            .widget-label { min-width: 60% !important; }\n",
       "        </style>"
      ],
      "text/plain": [
       "<IPython.core.display.HTML object>"
      ]
     },
     "metadata": {},
     "output_type": "display_data"
    },
    {
     "data": {
      "text/html": [
       "<h2>Epsilon constraint values</h2>"
      ],
      "text/plain": [
       "<IPython.core.display.HTML object>"
      ]
     },
     "metadata": {},
     "output_type": "display_data"
    },
    {
     "data": {
      "application/vnd.jupyter.widget-view+json": {
       "model_id": "374df9527d044c4a965f0312726719cd",
       "version_major": 2,
       "version_minor": 0
      },
      "text/plain": [
       "interactive(children=(FloatSlider(value=-6524.655236661916, description='Maximize netvalue (MAX Millions nok/m…"
      ]
     },
     "metadata": {},
     "output_type": "display_data"
    },
    {
     "data": {
      "text/html": [
       "<h2>Reference point</h2>"
      ],
      "text/plain": [
       "<IPython.core.display.HTML object>"
      ]
     },
     "metadata": {},
     "output_type": "display_data"
    },
    {
     "data": {
      "application/vnd.jupyter.widget-view+json": {
       "model_id": "3cd0d2dc609d4046a384132e15b84eca",
       "version_major": 2,
       "version_minor": 0
      },
      "text/plain": [
       "interactive(children=(FloatSlider(value=55070.05872928297, description='Maximize netvalue (MAX Millions nok/m2…"
      ]
     },
     "metadata": {},
     "output_type": "display_data"
    },
    {
     "data": {
      "text/html": [
       "<h2>Enabled constraints</h2>"
      ],
      "text/plain": [
       "<IPython.core.display.HTML object>"
      ]
     },
     "metadata": {},
     "output_type": "display_data"
    },
    {
     "data": {
      "application/vnd.jupyter.widget-view+json": {
       "model_id": "87e03ac027c8430fbbf68b50a57bbab1",
       "version_major": 2,
       "version_minor": 0
      },
      "text/plain": [
       "interactive(children=(Checkbox(value=False, description='Max harvest reduction 10%'), Checkbox(value=False, de…"
      ]
     },
     "metadata": {},
     "output_type": "display_data"
    },
    {
     "data": {
      "application/vnd.jupyter.widget-view+json": {
       "model_id": "9c0d88a7dab8419a92ab59110af699bc",
       "version_major": 2,
       "version_minor": 0
      },
      "text/plain": [
       "Button(description='Print solution', style=ButtonStyle())"
      ]
     },
     "metadata": {},
     "output_type": "display_data"
    }
   ],
   "source": [
    "mfo.showGUI()"
   ]
  },
  {
   "cell_type": "code",
   "execution_count": 66,
   "id": "6e722276-20c0-46d0-97c4-d22cc6c208d3",
   "metadata": {},
   "outputs": [],
   "source": [
    "import pandas as pd"
   ]
  },
  {
   "cell_type": "code",
   "execution_count": 68,
   "id": "3fc68471-cfc3-426c-948c-52d24127f589",
   "metadata": {},
   "outputs": [],
   "source": [
    "import os\n",
    "\n",
    "try:\n",
    "    os.mkdir(\"results\")\n",
    "except FileExistsError:\n",
    "    pass\n",
    "b = []\n",
    "c = []\n",
    "for key in mfo.regimesDecision.keys():\n",
    "    if mfo.regimesDecision[key].solution_value() > 0:\n",
    "        b = b+ [(key[0],x*5+2018, key[1]) for x in range(0,22)]\n",
    "        c = c+ [(key[0],key[1],mfo.regimesDecision[key].solution_value())]\n",
    "data2b = mfo.data.iloc[mfo.data.index.isin(b)]\n",
    "data2b.to_csv(\"./results/solution_alldata_Assess4EST_RCP45_globiom.csv\")\n",
    "c1 = pd.DataFrame(c)\n",
    "c1.to_csv(\"./results/solution_Assess4EST_RCP45_globiom.csv\")"
   ]
  },
  {
   "cell_type": "code",
   "execution_count": 70,
   "id": "b24cd62a-868c-4cf6-bc17-39ae099fddc2",
   "metadata": {},
   "outputs": [],
   "source": [
    "import json\n",
    "mfo.objectiveRanges\n",
    "\n",
    "with open(\"results/objectiveRanges_Assess4EST_RCP45_globiom.json\", \"w\") as json_file:\n",
    "    json.dump(mfo.objectiveRanges, json_file)"
   ]
  },
  {
   "cell_type": "code",
   "execution_count": 72,
   "id": "157dd923-72ad-42ce-afd4-5ac6557d2b6f",
   "metadata": {},
   "outputs": [],
   "source": [
    "import pandas\n",
    "df = pandas.read_json(\"results/objectiveRanges_Assess4EST_RCP45_globiom.json\")\n",
    "df.to_csv(\"results/objectiveRanges_Assess4EST_RCP45_globiom.csv\")"
   ]
  },
  {
   "cell_type": "code",
   "execution_count": 74,
   "id": "e7d3474b-c247-49ab-8985-50f80879ec38",
   "metadata": {},
   "outputs": [],
   "source": [
    "import os\n",
    "with open(\"./results/objectiveValues_Assess4EST_RCP45_globiom.csv\",\"w\") as file: \n",
    "    delim = \"\" \n",
    "    for objName in mfo.objectiveTypes.keys():\n",
    "        file.write(delim+objName) \n",
    "        delim = \",\" \n",
    "    file.write(\"\\n\") \n",
    "    delim = \"\" \n",
    "    for objName in mfo.objectiveTypes.keys():\n",
    "            file.write(delim+str(mfo.objective[objName].solution_value())) \n",
    "            delim = \",\" \n",
    "    file.write(\"\\n\")"
   ]
  },
  {
   "cell_type": "code",
   "execution_count": null,
   "id": "f3f41f50-d4a6-45be-8907-2e84a20534d6",
   "metadata": {},
   "outputs": [],
   "source": []
  }
 ],
 "metadata": {
  "kernelspec": {
   "display_name": "Python 3 (ipykernel)",
   "language": "python",
   "name": "python3"
  },
  "language_info": {
   "codemirror_mode": {
    "name": "ipython",
    "version": 3
   },
   "file_extension": ".py",
   "mimetype": "text/x-python",
   "name": "python",
   "nbconvert_exporter": "python",
   "pygments_lexer": "ipython3",
   "version": "3.12.3"
  }
 },
 "nbformat": 4,
 "nbformat_minor": 5
}
