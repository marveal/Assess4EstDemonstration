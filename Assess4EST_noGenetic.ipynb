{
 "cells": [
  {
   "cell_type": "code",
   "execution_count": 1,
   "id": "878cbe31-ec3e-44ee-a2b2-155ac5a6e784",
   "metadata": {},
   "outputs": [],
   "source": [
    "import pandas as pd\n",
    "import numpy as np\n",
    "import os\n",
    "import wget\n",
    "from datetime import datetime"
   ]
  },
  {
   "cell_type": "code",
   "execution_count": 2,
   "id": "50b50196-c4a8-48b8-821e-66c58c38b57e",
   "metadata": {},
   "outputs": [],
   "source": [
    "import multiFunctionalOptimization as MFO"
   ]
  },
  {
   "cell_type": "code",
   "execution_count": 3,
   "id": "5bf78e0b-6ffe-484c-b8ac-7bde65a7c3de",
   "metadata": {},
   "outputs": [
    {
     "data": {
      "text/plain": [
       "<module 'multiFunctionalOptimization' from 'C:\\\\Users\\\\mver\\\\Desktop\\\\Assess4ESTOptimizationNotebook\\\\multiFunctionalOptimization.py'>"
      ]
     },
     "execution_count": 3,
     "metadata": {},
     "output_type": "execute_result"
    }
   ],
   "source": [
    "from importlib import reload\n",
    "reload(MFO)"
   ]
  },
  {
   "cell_type": "code",
   "execution_count": 4,
   "id": "45cac85a-718b-406a-a7e4-1582d6d7087d",
   "metadata": {},
   "outputs": [
    {
     "data": {
      "text/plain": [
       "'Using CLP'"
      ]
     },
     "metadata": {},
     "output_type": "display_data"
    }
   ],
   "source": [
    "mfo = MFO.MultiFunctionalOptimization()"
   ]
  },
  {
   "cell_type": "code",
   "execution_count": 5,
   "id": "8b023034-2245-4d1a-b7c5-9e9aae1d6b7c",
   "metadata": {},
   "outputs": [],
   "source": [
    "filename = \"FES_Assess4EST_RCP45_2024-08-13.csv\""
   ]
  },
  {
   "cell_type": "code",
   "execution_count": 6,
   "id": "ea1c6c72-d542-4ffd-9b56-27440dbc967a",
   "metadata": {},
   "outputs": [
    {
     "name": "stdout",
     "output_type": "stream",
     "text": [
      "CPU times: total: 8.84 s\n",
      "Wall time: 11.2 s\n"
     ]
    }
   ],
   "source": [
    "%%time\n",
    "mfo.readData(filename,standsEnu = \"plot_id\",delimeter = \",\",areaCol = \"tsd_ha2total\")"
   ]
  },
  {
   "cell_type": "code",
   "execution_count": 7,
   "id": "fd1f1583-7509-4429-bb7c-bc9f8068aecd",
   "metadata": {},
   "outputs": [],
   "source": [
    "mfo.finalizeData(initialTime = 2018)"
   ]
  },
  {
   "cell_type": "code",
   "execution_count": 9,
   "id": "f90575ee-d70a-4324-bd07-a3907d215acd",
   "metadata": {},
   "outputs": [
    {
     "data": {
      "text/plain": [
       "Index(['Unnamed: 0', 'period', 'pulp_vol_m3', 'harv_cost_nok_m3',\n",
       "       'harv_cost_u150', 'harv_cost_u200', 'biomass_CO2_change_t_period',\n",
       "       'net_increment_m3', 'is_old', 'is_broadleave', 'MiS_classified_plot',\n",
       "       'bilberry_cover_pr', 'GROT_kt_TotNor', 'vol_saw_m3', 'saw_CO2_t',\n",
       "       'saw_CO2_change_t', 'vol_panels_m3', 'panels_CO2_t',\n",
       "       'panels_CO2_change_t', 'is_steep_terrain', 'is_vernskog',\n",
       "       'is_city_forest', 'shan', 'class_dbh', 'Nsp', 'ha2total', 'management',\n",
       "       'harv_net_Mnok_TotNor', 'harv_vol_Mm3_TotNor', 'saw_vol_Mm3_TotNor',\n",
       "       'pulp_vol_Mm3_TotNor', 'dead_vol_Mm3_TotNor', 'tsd_ha2total',\n",
       "       'saw_CO2_change_Kt_TotNor', 'saw_CO2_Kt_TotNor',\n",
       "       'panels_CO2_change_Kt_TotNor', 'HWP_C02_Kt_TotNor',\n",
       "       'Bilberry_ha_TotNor', 'MiS_ha', 'SawTimber_Mm3_year', 'pulp_Mm3_year',\n",
       "       'GROT_t', 'GROT_m3', 'GROT_Mm3', 'Residues_Mm3_year',\n",
       "       'harvest_demands_Mm3_year', 'regime.class', 'finalFelling', 'is_CCF',\n",
       "       'is_nomanagement', 'is_vers_or_ste', 'FinaL_versk', 'FinaL_city',\n",
       "       'High_classdbh', 'Sha_highclassdbh_Tot_Nor', 'Relative_shan',\n",
       "       'Relative_ha2total', 'Relative_dead_vol_Mm3_TotNor',\n",
       "       'Relative_tsd_ha2total', 'Relative_MiS_ha',\n",
       "       'Relative_Sha_highclassdbh_Tot_Nor'],\n",
       "      dtype='object')"
      ]
     },
     "execution_count": 9,
     "metadata": {},
     "output_type": "execute_result"
    }
   ],
   "source": [
    "mfo.data.columns"
   ]
  },
  {
   "cell_type": "code",
   "execution_count": 19,
   "id": "70410f14-106f-4405-b904-8fcc252a8c68",
   "metadata": {},
   "outputs": [
    {
     "data": {
      "text/html": [
       "<div>\n",
       "<style scoped>\n",
       "    .dataframe tbody tr th:only-of-type {\n",
       "        vertical-align: middle;\n",
       "    }\n",
       "\n",
       "    .dataframe tbody tr th {\n",
       "        vertical-align: top;\n",
       "    }\n",
       "\n",
       "    .dataframe thead th {\n",
       "        text-align: right;\n",
       "    }\n",
       "</style>\n",
       "<table border=\"1\" class=\"dataframe\">\n",
       "  <thead>\n",
       "    <tr style=\"text-align: right;\">\n",
       "      <th></th>\n",
       "      <th></th>\n",
       "      <th></th>\n",
       "      <th>Unnamed: 0</th>\n",
       "      <th>period</th>\n",
       "      <th>pulp_vol_m3</th>\n",
       "      <th>harv_cost_nok_m3</th>\n",
       "      <th>harv_cost_u150</th>\n",
       "      <th>harv_cost_u200</th>\n",
       "      <th>biomass_CO2_change_t_period</th>\n",
       "      <th>net_increment_m3</th>\n",
       "      <th>is_old</th>\n",
       "      <th>is_broadleave</th>\n",
       "      <th>...</th>\n",
       "      <th>FinaL_versk</th>\n",
       "      <th>FinaL_city</th>\n",
       "      <th>High_classdbh</th>\n",
       "      <th>Sha_highclassdbh_Tot_Nor</th>\n",
       "      <th>Relative_shan</th>\n",
       "      <th>Relative_ha2total</th>\n",
       "      <th>Relative_dead_vol_Mm3_TotNor</th>\n",
       "      <th>Relative_tsd_ha2total</th>\n",
       "      <th>Relative_MiS_ha</th>\n",
       "      <th>Relative_Sha_highclassdbh_Tot_Nor</th>\n",
       "    </tr>\n",
       "    <tr>\n",
       "      <th>plot_id</th>\n",
       "      <th>year</th>\n",
       "      <th>regime</th>\n",
       "      <th></th>\n",
       "      <th></th>\n",
       "      <th></th>\n",
       "      <th></th>\n",
       "      <th></th>\n",
       "      <th></th>\n",
       "      <th></th>\n",
       "      <th></th>\n",
       "      <th></th>\n",
       "      <th></th>\n",
       "      <th></th>\n",
       "      <th></th>\n",
       "      <th></th>\n",
       "      <th></th>\n",
       "      <th></th>\n",
       "      <th></th>\n",
       "      <th></th>\n",
       "      <th></th>\n",
       "      <th></th>\n",
       "      <th></th>\n",
       "      <th></th>\n",
       "    </tr>\n",
       "  </thead>\n",
       "  <tbody>\n",
       "    <tr>\n",
       "      <th rowspan=\"5\" valign=\"top\">A03059-0</th>\n",
       "      <th rowspan=\"5\" valign=\"top\">2023</th>\n",
       "      <th>SimOpt_extensive_0</th>\n",
       "      <td>56901</td>\n",
       "      <td>t1</td>\n",
       "      <td>0.0</td>\n",
       "      <td>0.0</td>\n",
       "      <td>0</td>\n",
       "      <td>0</td>\n",
       "      <td>11952.080236</td>\n",
       "      <td>11067.20264</td>\n",
       "      <td>0</td>\n",
       "      <td>0</td>\n",
       "      <td>...</td>\n",
       "      <td>0</td>\n",
       "      <td>0</td>\n",
       "      <td>1</td>\n",
       "      <td>185.828111</td>\n",
       "      <td>0.000001</td>\n",
       "      <td>0.000004</td>\n",
       "      <td>0.000001</td>\n",
       "      <td>0.000004</td>\n",
       "      <td>0.0</td>\n",
       "      <td>0.000002</td>\n",
       "    </tr>\n",
       "    <tr>\n",
       "      <th>SimOpt_extensive_long_0</th>\n",
       "      <td>1528591</td>\n",
       "      <td>t1</td>\n",
       "      <td>0.0</td>\n",
       "      <td>0.0</td>\n",
       "      <td>0</td>\n",
       "      <td>0</td>\n",
       "      <td>11952.080236</td>\n",
       "      <td>11067.20264</td>\n",
       "      <td>0</td>\n",
       "      <td>0</td>\n",
       "      <td>...</td>\n",
       "      <td>0</td>\n",
       "      <td>0</td>\n",
       "      <td>1</td>\n",
       "      <td>185.828111</td>\n",
       "      <td>0.000001</td>\n",
       "      <td>0.000004</td>\n",
       "      <td>0.000001</td>\n",
       "      <td>0.000004</td>\n",
       "      <td>0.0</td>\n",
       "      <td>0.000002</td>\n",
       "    </tr>\n",
       "    <tr>\n",
       "      <th>SimOpt_int_0</th>\n",
       "      <td>2718863</td>\n",
       "      <td>t1</td>\n",
       "      <td>0.0</td>\n",
       "      <td>0.0</td>\n",
       "      <td>0</td>\n",
       "      <td>0</td>\n",
       "      <td>11952.080236</td>\n",
       "      <td>11067.20264</td>\n",
       "      <td>0</td>\n",
       "      <td>0</td>\n",
       "      <td>...</td>\n",
       "      <td>0</td>\n",
       "      <td>0</td>\n",
       "      <td>1</td>\n",
       "      <td>185.828111</td>\n",
       "      <td>0.000001</td>\n",
       "      <td>0.000004</td>\n",
       "      <td>0.000001</td>\n",
       "      <td>0.000004</td>\n",
       "      <td>0.0</td>\n",
       "      <td>0.000002</td>\n",
       "    </tr>\n",
       "    <tr>\n",
       "      <th>SimOpt_int_short_0</th>\n",
       "      <td>3335929</td>\n",
       "      <td>t1</td>\n",
       "      <td>0.0</td>\n",
       "      <td>0.0</td>\n",
       "      <td>0</td>\n",
       "      <td>0</td>\n",
       "      <td>11952.080236</td>\n",
       "      <td>11067.20264</td>\n",
       "      <td>0</td>\n",
       "      <td>0</td>\n",
       "      <td>...</td>\n",
       "      <td>0</td>\n",
       "      <td>0</td>\n",
       "      <td>1</td>\n",
       "      <td>185.828111</td>\n",
       "      <td>0.000001</td>\n",
       "      <td>0.000004</td>\n",
       "      <td>0.000001</td>\n",
       "      <td>0.000004</td>\n",
       "      <td>0.0</td>\n",
       "      <td>0.000002</td>\n",
       "    </tr>\n",
       "    <tr>\n",
       "      <th>SimOpt_no_management_0</th>\n",
       "      <td>4178568</td>\n",
       "      <td>t1</td>\n",
       "      <td>0.0</td>\n",
       "      <td>0.0</td>\n",
       "      <td>0</td>\n",
       "      <td>0</td>\n",
       "      <td>11952.080236</td>\n",
       "      <td>11067.20264</td>\n",
       "      <td>0</td>\n",
       "      <td>0</td>\n",
       "      <td>...</td>\n",
       "      <td>0</td>\n",
       "      <td>0</td>\n",
       "      <td>1</td>\n",
       "      <td>185.828111</td>\n",
       "      <td>0.000001</td>\n",
       "      <td>0.000004</td>\n",
       "      <td>0.000001</td>\n",
       "      <td>0.000004</td>\n",
       "      <td>0.0</td>\n",
       "      <td>0.000002</td>\n",
       "    </tr>\n",
       "  </tbody>\n",
       "</table>\n",
       "<p>5 rows × 61 columns</p>\n",
       "</div>"
      ],
      "text/plain": [
       "                                       Unnamed: 0 period  pulp_vol_m3  \\\n",
       "plot_id  year regime                                                    \n",
       "A03059-0 2023 SimOpt_extensive_0            56901     t1          0.0   \n",
       "              SimOpt_extensive_long_0     1528591     t1          0.0   \n",
       "              SimOpt_int_0                2718863     t1          0.0   \n",
       "              SimOpt_int_short_0          3335929     t1          0.0   \n",
       "              SimOpt_no_management_0      4178568     t1          0.0   \n",
       "\n",
       "                                       harv_cost_nok_m3  harv_cost_u150  \\\n",
       "plot_id  year regime                                                      \n",
       "A03059-0 2023 SimOpt_extensive_0                    0.0               0   \n",
       "              SimOpt_extensive_long_0               0.0               0   \n",
       "              SimOpt_int_0                          0.0               0   \n",
       "              SimOpt_int_short_0                    0.0               0   \n",
       "              SimOpt_no_management_0                0.0               0   \n",
       "\n",
       "                                       harv_cost_u200  \\\n",
       "plot_id  year regime                                    \n",
       "A03059-0 2023 SimOpt_extensive_0                    0   \n",
       "              SimOpt_extensive_long_0               0   \n",
       "              SimOpt_int_0                          0   \n",
       "              SimOpt_int_short_0                    0   \n",
       "              SimOpt_no_management_0                0   \n",
       "\n",
       "                                       biomass_CO2_change_t_period  \\\n",
       "plot_id  year regime                                                 \n",
       "A03059-0 2023 SimOpt_extensive_0                      11952.080236   \n",
       "              SimOpt_extensive_long_0                 11952.080236   \n",
       "              SimOpt_int_0                            11952.080236   \n",
       "              SimOpt_int_short_0                      11952.080236   \n",
       "              SimOpt_no_management_0                  11952.080236   \n",
       "\n",
       "                                       net_increment_m3  is_old  \\\n",
       "plot_id  year regime                                              \n",
       "A03059-0 2023 SimOpt_extensive_0            11067.20264       0   \n",
       "              SimOpt_extensive_long_0       11067.20264       0   \n",
       "              SimOpt_int_0                  11067.20264       0   \n",
       "              SimOpt_int_short_0            11067.20264       0   \n",
       "              SimOpt_no_management_0        11067.20264       0   \n",
       "\n",
       "                                       is_broadleave  ...  FinaL_versk  \\\n",
       "plot_id  year regime                                  ...                \n",
       "A03059-0 2023 SimOpt_extensive_0                   0  ...            0   \n",
       "              SimOpt_extensive_long_0              0  ...            0   \n",
       "              SimOpt_int_0                         0  ...            0   \n",
       "              SimOpt_int_short_0                   0  ...            0   \n",
       "              SimOpt_no_management_0               0  ...            0   \n",
       "\n",
       "                                       FinaL_city  High_classdbh  \\\n",
       "plot_id  year regime                                               \n",
       "A03059-0 2023 SimOpt_extensive_0                0              1   \n",
       "              SimOpt_extensive_long_0           0              1   \n",
       "              SimOpt_int_0                      0              1   \n",
       "              SimOpt_int_short_0                0              1   \n",
       "              SimOpt_no_management_0            0              1   \n",
       "\n",
       "                                       Sha_highclassdbh_Tot_Nor  \\\n",
       "plot_id  year regime                                              \n",
       "A03059-0 2023 SimOpt_extensive_0                     185.828111   \n",
       "              SimOpt_extensive_long_0                185.828111   \n",
       "              SimOpt_int_0                           185.828111   \n",
       "              SimOpt_int_short_0                     185.828111   \n",
       "              SimOpt_no_management_0                 185.828111   \n",
       "\n",
       "                                       Relative_shan  Relative_ha2total  \\\n",
       "plot_id  year regime                                                      \n",
       "A03059-0 2023 SimOpt_extensive_0            0.000001           0.000004   \n",
       "              SimOpt_extensive_long_0       0.000001           0.000004   \n",
       "              SimOpt_int_0                  0.000001           0.000004   \n",
       "              SimOpt_int_short_0            0.000001           0.000004   \n",
       "              SimOpt_no_management_0        0.000001           0.000004   \n",
       "\n",
       "                                       Relative_dead_vol_Mm3_TotNor  \\\n",
       "plot_id  year regime                                                  \n",
       "A03059-0 2023 SimOpt_extensive_0                           0.000001   \n",
       "              SimOpt_extensive_long_0                      0.000001   \n",
       "              SimOpt_int_0                                 0.000001   \n",
       "              SimOpt_int_short_0                           0.000001   \n",
       "              SimOpt_no_management_0                       0.000001   \n",
       "\n",
       "                                       Relative_tsd_ha2total  Relative_MiS_ha  \\\n",
       "plot_id  year regime                                                            \n",
       "A03059-0 2023 SimOpt_extensive_0                    0.000004              0.0   \n",
       "              SimOpt_extensive_long_0               0.000004              0.0   \n",
       "              SimOpt_int_0                          0.000004              0.0   \n",
       "              SimOpt_int_short_0                    0.000004              0.0   \n",
       "              SimOpt_no_management_0                0.000004              0.0   \n",
       "\n",
       "                                       Relative_Sha_highclassdbh_Tot_Nor  \n",
       "plot_id  year regime                                                      \n",
       "A03059-0 2023 SimOpt_extensive_0                                0.000002  \n",
       "              SimOpt_extensive_long_0                           0.000002  \n",
       "              SimOpt_int_0                                      0.000002  \n",
       "              SimOpt_int_short_0                                0.000002  \n",
       "              SimOpt_no_management_0                            0.000002  \n",
       "\n",
       "[5 rows x 61 columns]"
      ]
     },
     "execution_count": 19,
     "metadata": {},
     "output_type": "execute_result"
    }
   ],
   "source": [
    "mfo.data.head()"
   ]
  },
  {
   "cell_type": "code",
   "execution_count": 21,
   "id": "f69101be-4373-46fe-b6e6-0398c563f53a",
   "metadata": {},
   "outputs": [
    {
     "data": {
      "text/html": [
       "<div>\n",
       "<style scoped>\n",
       "    .dataframe tbody tr th:only-of-type {\n",
       "        vertical-align: middle;\n",
       "    }\n",
       "\n",
       "    .dataframe tbody tr th {\n",
       "        vertical-align: top;\n",
       "    }\n",
       "\n",
       "    .dataframe thead th {\n",
       "        text-align: right;\n",
       "    }\n",
       "</style>\n",
       "<table border=\"1\" class=\"dataframe\">\n",
       "  <thead>\n",
       "    <tr style=\"text-align: right;\">\n",
       "      <th></th>\n",
       "      <th></th>\n",
       "      <th></th>\n",
       "      <th>Unnamed: 0</th>\n",
       "      <th>period</th>\n",
       "      <th>pulp_vol_m3</th>\n",
       "      <th>harv_cost_nok_m3</th>\n",
       "      <th>harv_cost_u150</th>\n",
       "      <th>harv_cost_u200</th>\n",
       "      <th>biomass_CO2_change_t_period</th>\n",
       "      <th>net_increment_m3</th>\n",
       "      <th>is_old</th>\n",
       "      <th>is_broadleave</th>\n",
       "      <th>...</th>\n",
       "      <th>harvest_demands_Mm3_year</th>\n",
       "      <th>regime.class</th>\n",
       "      <th>finalFelling</th>\n",
       "      <th>is_CCF</th>\n",
       "      <th>is_nomanagement</th>\n",
       "      <th>is_vers_or_ste</th>\n",
       "      <th>FinaL_versk</th>\n",
       "      <th>FinaL_city</th>\n",
       "      <th>High_classdbh</th>\n",
       "      <th>Sha_highclassdbh_Tot_Nor</th>\n",
       "    </tr>\n",
       "    <tr>\n",
       "      <th>plot_id</th>\n",
       "      <th>year</th>\n",
       "      <th>regime</th>\n",
       "      <th></th>\n",
       "      <th></th>\n",
       "      <th></th>\n",
       "      <th></th>\n",
       "      <th></th>\n",
       "      <th></th>\n",
       "      <th></th>\n",
       "      <th></th>\n",
       "      <th></th>\n",
       "      <th></th>\n",
       "      <th></th>\n",
       "      <th></th>\n",
       "      <th></th>\n",
       "      <th></th>\n",
       "      <th></th>\n",
       "      <th></th>\n",
       "      <th></th>\n",
       "      <th></th>\n",
       "      <th></th>\n",
       "      <th></th>\n",
       "      <th></th>\n",
       "    </tr>\n",
       "  </thead>\n",
       "  <tbody>\n",
       "    <tr>\n",
       "      <th rowspan=\"5\" valign=\"top\">A03059-0</th>\n",
       "      <th rowspan=\"5\" valign=\"top\">2018</th>\n",
       "      <th>SimOpt_extensive_0</th>\n",
       "      <td>56900</td>\n",
       "      <td>t0</td>\n",
       "      <td>0.0</td>\n",
       "      <td>0.0</td>\n",
       "      <td>0</td>\n",
       "      <td>0</td>\n",
       "      <td>0.0</td>\n",
       "      <td>0.0</td>\n",
       "      <td>0</td>\n",
       "      <td>0</td>\n",
       "      <td>...</td>\n",
       "      <td>0.0</td>\n",
       "      <td>extensive</td>\n",
       "      <td>False</td>\n",
       "      <td>1</td>\n",
       "      <td>1</td>\n",
       "      <td>0</td>\n",
       "      <td>0</td>\n",
       "      <td>0</td>\n",
       "      <td>1</td>\n",
       "      <td>178.909481</td>\n",
       "    </tr>\n",
       "    <tr>\n",
       "      <th>SimOpt_extensive_long_0</th>\n",
       "      <td>1528590</td>\n",
       "      <td>t0</td>\n",
       "      <td>0.0</td>\n",
       "      <td>0.0</td>\n",
       "      <td>0</td>\n",
       "      <td>0</td>\n",
       "      <td>0.0</td>\n",
       "      <td>0.0</td>\n",
       "      <td>0</td>\n",
       "      <td>0</td>\n",
       "      <td>...</td>\n",
       "      <td>0.0</td>\n",
       "      <td>extensive_long</td>\n",
       "      <td>False</td>\n",
       "      <td>1</td>\n",
       "      <td>1</td>\n",
       "      <td>0</td>\n",
       "      <td>0</td>\n",
       "      <td>0</td>\n",
       "      <td>1</td>\n",
       "      <td>178.909481</td>\n",
       "    </tr>\n",
       "    <tr>\n",
       "      <th>SimOpt_int_0</th>\n",
       "      <td>2718862</td>\n",
       "      <td>t0</td>\n",
       "      <td>0.0</td>\n",
       "      <td>0.0</td>\n",
       "      <td>0</td>\n",
       "      <td>0</td>\n",
       "      <td>0.0</td>\n",
       "      <td>0.0</td>\n",
       "      <td>0</td>\n",
       "      <td>0</td>\n",
       "      <td>...</td>\n",
       "      <td>0.0</td>\n",
       "      <td>int</td>\n",
       "      <td>False</td>\n",
       "      <td>1</td>\n",
       "      <td>1</td>\n",
       "      <td>0</td>\n",
       "      <td>0</td>\n",
       "      <td>0</td>\n",
       "      <td>1</td>\n",
       "      <td>178.909481</td>\n",
       "    </tr>\n",
       "    <tr>\n",
       "      <th>SimOpt_int_short_0</th>\n",
       "      <td>3335928</td>\n",
       "      <td>t0</td>\n",
       "      <td>0.0</td>\n",
       "      <td>0.0</td>\n",
       "      <td>0</td>\n",
       "      <td>0</td>\n",
       "      <td>0.0</td>\n",
       "      <td>0.0</td>\n",
       "      <td>0</td>\n",
       "      <td>0</td>\n",
       "      <td>...</td>\n",
       "      <td>0.0</td>\n",
       "      <td>int_short</td>\n",
       "      <td>False</td>\n",
       "      <td>1</td>\n",
       "      <td>1</td>\n",
       "      <td>0</td>\n",
       "      <td>0</td>\n",
       "      <td>0</td>\n",
       "      <td>1</td>\n",
       "      <td>178.909481</td>\n",
       "    </tr>\n",
       "    <tr>\n",
       "      <th>SimOpt_no_management_0</th>\n",
       "      <td>4178567</td>\n",
       "      <td>t0</td>\n",
       "      <td>0.0</td>\n",
       "      <td>0.0</td>\n",
       "      <td>0</td>\n",
       "      <td>0</td>\n",
       "      <td>0.0</td>\n",
       "      <td>0.0</td>\n",
       "      <td>0</td>\n",
       "      <td>0</td>\n",
       "      <td>...</td>\n",
       "      <td>0.0</td>\n",
       "      <td>no_management</td>\n",
       "      <td>False</td>\n",
       "      <td>1</td>\n",
       "      <td>0</td>\n",
       "      <td>0</td>\n",
       "      <td>0</td>\n",
       "      <td>0</td>\n",
       "      <td>1</td>\n",
       "      <td>178.909481</td>\n",
       "    </tr>\n",
       "  </tbody>\n",
       "</table>\n",
       "<p>5 rows × 55 columns</p>\n",
       "</div>"
      ],
      "text/plain": [
       "                                       Unnamed: 0 period  pulp_vol_m3  \\\n",
       "plot_id  year regime                                                    \n",
       "A03059-0 2018 SimOpt_extensive_0            56900     t0          0.0   \n",
       "              SimOpt_extensive_long_0     1528590     t0          0.0   \n",
       "              SimOpt_int_0                2718862     t0          0.0   \n",
       "              SimOpt_int_short_0          3335928     t0          0.0   \n",
       "              SimOpt_no_management_0      4178567     t0          0.0   \n",
       "\n",
       "                                       harv_cost_nok_m3  harv_cost_u150  \\\n",
       "plot_id  year regime                                                      \n",
       "A03059-0 2018 SimOpt_extensive_0                    0.0               0   \n",
       "              SimOpt_extensive_long_0               0.0               0   \n",
       "              SimOpt_int_0                          0.0               0   \n",
       "              SimOpt_int_short_0                    0.0               0   \n",
       "              SimOpt_no_management_0                0.0               0   \n",
       "\n",
       "                                       harv_cost_u200  \\\n",
       "plot_id  year regime                                    \n",
       "A03059-0 2018 SimOpt_extensive_0                    0   \n",
       "              SimOpt_extensive_long_0               0   \n",
       "              SimOpt_int_0                          0   \n",
       "              SimOpt_int_short_0                    0   \n",
       "              SimOpt_no_management_0                0   \n",
       "\n",
       "                                       biomass_CO2_change_t_period  \\\n",
       "plot_id  year regime                                                 \n",
       "A03059-0 2018 SimOpt_extensive_0                               0.0   \n",
       "              SimOpt_extensive_long_0                          0.0   \n",
       "              SimOpt_int_0                                     0.0   \n",
       "              SimOpt_int_short_0                               0.0   \n",
       "              SimOpt_no_management_0                           0.0   \n",
       "\n",
       "                                       net_increment_m3  is_old  \\\n",
       "plot_id  year regime                                              \n",
       "A03059-0 2018 SimOpt_extensive_0                    0.0       0   \n",
       "              SimOpt_extensive_long_0               0.0       0   \n",
       "              SimOpt_int_0                          0.0       0   \n",
       "              SimOpt_int_short_0                    0.0       0   \n",
       "              SimOpt_no_management_0                0.0       0   \n",
       "\n",
       "                                       is_broadleave  ...  \\\n",
       "plot_id  year regime                                  ...   \n",
       "A03059-0 2018 SimOpt_extensive_0                   0  ...   \n",
       "              SimOpt_extensive_long_0              0  ...   \n",
       "              SimOpt_int_0                         0  ...   \n",
       "              SimOpt_int_short_0                   0  ...   \n",
       "              SimOpt_no_management_0               0  ...   \n",
       "\n",
       "                                       harvest_demands_Mm3_year  \\\n",
       "plot_id  year regime                                              \n",
       "A03059-0 2018 SimOpt_extensive_0                            0.0   \n",
       "              SimOpt_extensive_long_0                       0.0   \n",
       "              SimOpt_int_0                                  0.0   \n",
       "              SimOpt_int_short_0                            0.0   \n",
       "              SimOpt_no_management_0                        0.0   \n",
       "\n",
       "                                         regime.class  finalFelling  is_CCF  \\\n",
       "plot_id  year regime                                                          \n",
       "A03059-0 2018 SimOpt_extensive_0            extensive         False       1   \n",
       "              SimOpt_extensive_long_0  extensive_long         False       1   \n",
       "              SimOpt_int_0                        int         False       1   \n",
       "              SimOpt_int_short_0            int_short         False       1   \n",
       "              SimOpt_no_management_0    no_management         False       1   \n",
       "\n",
       "                                       is_nomanagement  is_vers_or_ste  \\\n",
       "plot_id  year regime                                                     \n",
       "A03059-0 2018 SimOpt_extensive_0                     1               0   \n",
       "              SimOpt_extensive_long_0                1               0   \n",
       "              SimOpt_int_0                           1               0   \n",
       "              SimOpt_int_short_0                     1               0   \n",
       "              SimOpt_no_management_0                 0               0   \n",
       "\n",
       "                                       FinaL_versk  FinaL_city  High_classdbh  \\\n",
       "plot_id  year regime                                                            \n",
       "A03059-0 2018 SimOpt_extensive_0                 0           0              1   \n",
       "              SimOpt_extensive_long_0            0           0              1   \n",
       "              SimOpt_int_0                       0           0              1   \n",
       "              SimOpt_int_short_0                 0           0              1   \n",
       "              SimOpt_no_management_0             0           0              1   \n",
       "\n",
       "                                       Sha_highclassdbh_Tot_Nor  \n",
       "plot_id  year regime                                             \n",
       "A03059-0 2018 SimOpt_extensive_0                     178.909481  \n",
       "              SimOpt_extensive_long_0                178.909481  \n",
       "              SimOpt_int_0                           178.909481  \n",
       "              SimOpt_int_short_0                     178.909481  \n",
       "              SimOpt_no_management_0                 178.909481  \n",
       "\n",
       "[5 rows x 55 columns]"
      ]
     },
     "execution_count": 21,
     "metadata": {},
     "output_type": "execute_result"
    }
   ],
   "source": [
    "mfo.initialData.head()"
   ]
  },
  {
   "cell_type": "code",
   "execution_count": 23,
   "id": "adcbbc53-3018-4091-8eeb-60b80dab76ae",
   "metadata": {},
   "outputs": [],
   "source": [
    "Wood_production =  {\n",
    "    #objective\n",
    "    ## harv_net_Mnork_TotNor net value of saw and pulp for spruce pine and birch\n",
    "    \"harvest_netvalue_Mnok_sum\": [\"Maximize netvalue (MAX Millions nok/m2) max\",\n",
    "                             \"harv_net_Mnok_TotNor\", \"max\",\"sum\",\"sum\"], \n",
    "}"
   ]
  },
  {
   "cell_type": "code",
   "execution_count": 25,
   "id": "a19b6779-938f-45b3-bb9f-bbd74d960a26",
   "metadata": {},
   "outputs": [],
   "source": [
    "\n",
    "Bionergy = {\n",
    "    ## maximize GROT in plots with cost under 150 NOK (økt, lønnsom produksjon av bioenergi (p. 14)) \n",
    "    ##  increased, profitable production of bioenergy\n",
    "    #objective\n",
    "     \"GROTIncreaseInHarvCost150\":[\"Maximize GROT in plots with harvest cost under 150 (maX)\",\n",
    "                                  \"GROT_kt_TotNor\", \"max\",\"minYearlyIncrease\",\"subsetSum\",\"harv_cost_u150\"],\n",
    "   \n",
    "   \n",
    "}"
   ]
  },
  {
   "cell_type": "code",
   "execution_count": 27,
   "id": "37fe04e9-1315-4594-bfe4-6da208be6732",
   "metadata": {},
   "outputs": [],
   "source": [
    "Biodiversity = {\n",
    "    ## non decreasing MIS classified area (non decreasing total deadwood, \n",
    "    ## big trees (> 40cm) in old stands, big trees, and old stand with mixtures of broadleaves and conifers)\n",
    "     #constraints\n",
    "    \"MiSIncrease\":[\"Not decreasing area of MiS classified plots (max)\",\n",
    "                   \"MiS_ha\", \"max\",\"minYearlyIncrease\",\"sum\"],\n",
    "    \n",
    "    \"MiSMaxMin\":[\"Not decreasing area of MiS classified plots (not decrease)\",\n",
    "                   \"Relative_MiS_ha\", \"max\",\"min\",\"sum\"], \n",
    "\n",
    "    \"deadWoodIncrease\":[\"Minimum yearly incrase in vol Millions m3 of dead wood (max)\",\n",
    "                        \"dead_vol_Mm3_TotNor\", \"max\",\"minYearlyIncrease\",\"sum\"],\n",
    "    \n",
    "    \"deadWoodMaxMin\":[\"Minimum yearly incrase in vol Millions m3 of dead wood (max)\",\n",
    "                        \"Relative_dead_vol_Mm3_TotNor\", \"max\",\"min\",\"sum\"],\n",
    "  \n",
    "}"
   ]
  },
  {
   "cell_type": "code",
   "execution_count": 29,
   "id": "f2918b5e-4f52-4f2f-ab9e-f82be78c1441",
   "metadata": {},
   "outputs": [],
   "source": [
    "Climate_regulation = {\n",
    "    ## maximize CO2 in HWP, and non-decreasing HWP compared to 2019    \n",
    "    \"CO2_HWP_increase\":[\"CO2_HWPMinimum yearly increase  (maximize\",\n",
    "                       \"HWP_C02_Kt_TotNor\", \"max\",\"minYearlyIncrease\",\"sum\"],\n",
    "\n",
    "     #\"CO2_in_forest\": [\" Max Co2 uptake in forest\",\n",
    "      #                \"CO2_forest_Mil_Kt_TotNor_no_albedo\", \"max\",\"sum\",\"sum\"],\n",
    "    \n",
    "    ## ask Rasmus this was not written in the objectives of the owrd file -- Rasmus -> remove\n",
    "    ##\"CO2_HWP_increase_2050\": [\"Increase in CO2 by 2050\", \"HWP_C02_TotNor\",\n",
    "    ##                \"max\", \"targetYearWithSlope\", \"sum\", 2050],\n",
    "    \n",
    "    #\"CO2_HWP_kt\": [\"Co2 storage in wooden products (maximize kilotonnnes over all years)\",\n",
    "            #       \"HWP_C02_Kt_TotNor\", \"max\",\"sum\",\"sum\"],\n",
    "\n",
    "}"
   ]
  },
  {
   "cell_type": "code",
   "execution_count": 31,
   "id": "ccca95b4-92de-49e6-9ffe-beb984f01c9e",
   "metadata": {},
   "outputs": [],
   "source": [
    "objectives = {\n",
    "    **Wood_production,\n",
    "    **Bionergy,\n",
    "    **Biodiversity,\n",
    "    **Climate_regulation,\n",
    "}"
   ]
  },
  {
   "cell_type": "code",
   "execution_count": 33,
   "id": "d4c76af8-2b80-427e-a8ed-afa7cf85b4c7",
   "metadata": {},
   "outputs": [
    {
     "data": {
      "text/plain": [
       "6"
      ]
     },
     "execution_count": 33,
     "metadata": {},
     "output_type": "execute_result"
    }
   ],
   "source": [
    "len(objectives)"
   ]
  },
  {
   "cell_type": "code",
   "execution_count": 35,
   "id": "c99f8a82-214a-4981-b2d4-878923d2f0e1",
   "metadata": {},
   "outputs": [
    {
     "data": {
      "text/plain": [
       "dict_keys(['harvest_netvalue_Mnok_sum', 'GROTIncreaseInHarvCost150', 'MiSMaxMin', 'deadWoodIncrease', 'deadWoodMaxMin', 'CO2_HWP_increase'])"
      ]
     },
     "execution_count": 35,
     "metadata": {},
     "output_type": "execute_result"
    }
   ],
   "source": [
    "objectives.keys()"
   ]
  },
  {
   "cell_type": "code",
   "execution_count": 37,
   "id": "bf8e0141-fa23-4814-b599-bf9bfccb766c",
   "metadata": {
    "scrolled": true
   },
   "outputs": [
    {
     "data": {
      "text/plain": [
       "Index(['Unnamed: 0', 'period', 'pulp_vol_m3', 'harv_cost_nok_m3',\n",
       "       'harv_cost_u150', 'harv_cost_u200', 'biomass_CO2_change_t_period',\n",
       "       'net_increment_m3', 'is_old', 'is_broadleave', 'MiS_classified_plot',\n",
       "       'bilberry_cover_pr', 'GROT_kt_TotNor', 'vol_saw_m3', 'saw_CO2_t',\n",
       "       'saw_CO2_change_t', 'vol_panels_m3', 'panels_CO2_t',\n",
       "       'panels_CO2_change_t', 'is_steep_terrain', 'is_vernskog',\n",
       "       'is_city_forest', 'shan', 'class_dbh', 'Nsp', 'ha2total', 'management',\n",
       "       'harv_net_Mnok_TotNor', 'harv_vol_Mm3_TotNor', 'saw_vol_Mm3_TotNor',\n",
       "       'pulp_vol_Mm3_TotNor', 'dead_vol_Mm3_TotNor', 'tsd_ha2total',\n",
       "       'saw_CO2_change_Kt_TotNor', 'saw_CO2_Kt_TotNor',\n",
       "       'panels_CO2_change_Kt_TotNor', 'HWP_C02_Kt_TotNor',\n",
       "       'Bilberry_ha_TotNor', 'MiS_ha', 'SawTimber_Mm3_year', 'pulp_Mm3_year',\n",
       "       'GROT_t', 'GROT_m3', 'GROT_Mm3', 'Residues_Mm3_year',\n",
       "       'harvest_demands_Mm3_year', 'regime.class', 'finalFelling', 'is_CCF',\n",
       "       'is_nomanagement', 'is_vers_or_ste', 'FinaL_versk', 'FinaL_city',\n",
       "       'High_classdbh', 'Sha_highclassdbh_Tot_Nor', 'Relative_shan',\n",
       "       'Relative_ha2total', 'Relative_dead_vol_Mm3_TotNor',\n",
       "       'Relative_tsd_ha2total', 'Relative_MiS_ha',\n",
       "       'Relative_Sha_highclassdbh_Tot_Nor'],\n",
       "      dtype='object')"
      ]
     },
     "execution_count": 37,
     "metadata": {},
     "output_type": "execute_result"
    }
   ],
   "source": [
    "mfo.data.columns"
   ]
  },
  {
   "cell_type": "code",
   "execution_count": 39,
   "id": "20f60bb9-55de-4b92-8fef-c65c26d889ad",
   "metadata": {},
   "outputs": [
    {
     "data": {
      "text/plain": [
       "'Defining objectives'"
      ]
     },
     "metadata": {},
     "output_type": "display_data"
    },
    {
     "data": {
      "text/plain": [
       "'Aggregating stand wise'"
      ]
     },
     "metadata": {},
     "output_type": "display_data"
    },
    {
     "name": "stderr",
     "output_type": "stream",
     "text": [
      "100%|████████████████████████████████████████████████████████████████████████████████████| 6/6 [03:30<00:00, 35.08s/it]\n"
     ]
    },
    {
     "data": {
      "text/plain": [
       "'Aggregating year wise'"
      ]
     },
     "metadata": {},
     "output_type": "display_data"
    },
    {
     "name": "stdout",
     "output_type": "stream",
     "text": [
      "100%|██████████████████████████████████████████████████████████████████████████████████| 6/6 [00:00<00:00, 2998.07it/s]\n"
     ]
    },
    {
     "data": {
      "text/plain": [
       "'Objectives added'"
      ]
     },
     "metadata": {},
     "output_type": "display_data"
    }
   ],
   "source": [
    "mfo.defineObjectives(objectiveTypes= objectives)"
   ]
  },
  {
   "cell_type": "code",
   "execution_count": 40,
   "id": "0515ebd6-e506-498d-94c0-53fb6ea6e499",
   "metadata": {},
   "outputs": [
    {
     "data": {
      "text/plain": [
       "'Calculating objective ranges'"
      ]
     },
     "metadata": {},
     "output_type": "display_data"
    },
    {
     "name": "stdout",
     "output_type": "stream",
     "text": [
      "  0%|                                                                                            | 0/6 [00:00<?, ?it/s]"
     ]
    },
    {
     "data": {
      "text/plain": [
       "'Optimizing for Maximize netvalue (MAX Millions nok/m2) max'"
      ]
     },
     "metadata": {},
     "output_type": "display_data"
    },
    {
     "data": {
      "text/plain": [
       "'Found an optimal solution in 83 seconds'"
      ]
     },
     "metadata": {},
     "output_type": "display_data"
    },
    {
     "data": {
      "text/plain": [
       "'Objective values are:'"
      ]
     },
     "metadata": {},
     "output_type": "display_data"
    },
    {
     "data": {
      "text/plain": [
       "'Maximize netvalue (MAX Millions nok/m2) max'"
      ]
     },
     "metadata": {},
     "output_type": "display_data"
    },
    {
     "data": {
      "text/plain": [
       "114468.30702118306"
      ]
     },
     "metadata": {},
     "output_type": "display_data"
    },
    {
     "data": {
      "text/plain": [
       "'Maximize GROT in plots with harvest cost under 150 (maX)'"
      ]
     },
     "metadata": {},
     "output_type": "display_data"
    },
    {
     "data": {
      "text/plain": [
       "-2003.2050547991237"
      ]
     },
     "metadata": {},
     "output_type": "display_data"
    },
    {
     "data": {
      "text/plain": [
       "'Not decreasing area of MiS classified plots (not decrease)'"
      ]
     },
     "metadata": {},
     "output_type": "display_data"
    },
    {
     "data": {
      "text/plain": [
       "0.0"
      ]
     },
     "metadata": {},
     "output_type": "display_data"
    },
    {
     "data": {
      "text/plain": [
       "'Minimum yearly incrase in vol Millions m3 of dead wood (max)'"
      ]
     },
     "metadata": {},
     "output_type": "display_data"
    },
    {
     "data": {
      "text/plain": [
       "0.0"
      ]
     },
     "metadata": {},
     "output_type": "display_data"
    },
    {
     "data": {
      "text/plain": [
       "'Minimum yearly incrase in vol Millions m3 of dead wood (max)'"
      ]
     },
     "metadata": {},
     "output_type": "display_data"
    },
    {
     "data": {
      "text/plain": [
       "0.0"
      ]
     },
     "metadata": {},
     "output_type": "display_data"
    },
    {
     "data": {
      "text/plain": [
       "'CO2_HWPMinimum yearly increase  (maximize'"
      ]
     },
     "metadata": {},
     "output_type": "display_data"
    },
    {
     "data": {
      "text/plain": [
       "-97036.79704826415"
      ]
     },
     "metadata": {},
     "output_type": "display_data"
    },
    {
     "name": "stdout",
     "output_type": "stream",
     "text": [
      " 17%|██████████████                                                                      | 1/6 [01:23<06:56, 83.35s/it]"
     ]
    },
    {
     "data": {
      "text/plain": [
       "'Optimizing for Maximize GROT in plots with harvest cost under 150 (maX)'"
      ]
     },
     "metadata": {},
     "output_type": "display_data"
    },
    {
     "data": {
      "text/plain": [
       "'Found an optimal solution in 80 seconds'"
      ]
     },
     "metadata": {},
     "output_type": "display_data"
    },
    {
     "data": {
      "text/plain": [
       "'Objective values are:'"
      ]
     },
     "metadata": {},
     "output_type": "display_data"
    },
    {
     "data": {
      "text/plain": [
       "'Maximize netvalue (MAX Millions nok/m2) max'"
      ]
     },
     "metadata": {},
     "output_type": "display_data"
    },
    {
     "data": {
      "text/plain": [
       "39323.54593581532"
      ]
     },
     "metadata": {},
     "output_type": "display_data"
    },
    {
     "data": {
      "text/plain": [
       "'Maximize GROT in plots with harvest cost under 150 (maX)'"
      ]
     },
     "metadata": {},
     "output_type": "display_data"
    },
    {
     "data": {
      "text/plain": [
       "1588.837680031015"
      ]
     },
     "metadata": {},
     "output_type": "display_data"
    },
    {
     "data": {
      "text/plain": [
       "'Not decreasing area of MiS classified plots (not decrease)'"
      ]
     },
     "metadata": {},
     "output_type": "display_data"
    },
    {
     "data": {
      "text/plain": [
       "0.0"
      ]
     },
     "metadata": {},
     "output_type": "display_data"
    },
    {
     "data": {
      "text/plain": [
       "'Minimum yearly incrase in vol Millions m3 of dead wood (max)'"
      ]
     },
     "metadata": {},
     "output_type": "display_data"
    },
    {
     "data": {
      "text/plain": [
       "0.0"
      ]
     },
     "metadata": {},
     "output_type": "display_data"
    },
    {
     "data": {
      "text/plain": [
       "'Minimum yearly incrase in vol Millions m3 of dead wood (max)'"
      ]
     },
     "metadata": {},
     "output_type": "display_data"
    },
    {
     "data": {
      "text/plain": [
       "0.0"
      ]
     },
     "metadata": {},
     "output_type": "display_data"
    },
    {
     "data": {
      "text/plain": [
       "'CO2_HWPMinimum yearly increase  (maximize'"
      ]
     },
     "metadata": {},
     "output_type": "display_data"
    },
    {
     "data": {
      "text/plain": [
       "-148104.1598643291"
      ]
     },
     "metadata": {},
     "output_type": "display_data"
    },
    {
     "name": "stdout",
     "output_type": "stream",
     "text": [
      " 33%|████████████████████████████                                                        | 2/6 [02:43<05:26, 81.73s/it]"
     ]
    },
    {
     "data": {
      "text/plain": [
       "'Optimizing for Not decreasing area of MiS classified plots (not decrease)'"
      ]
     },
     "metadata": {},
     "output_type": "display_data"
    },
    {
     "data": {
      "text/plain": [
       "'Found an optimal solution in 84 seconds'"
      ]
     },
     "metadata": {},
     "output_type": "display_data"
    },
    {
     "data": {
      "text/plain": [
       "'Objective values are:'"
      ]
     },
     "metadata": {},
     "output_type": "display_data"
    },
    {
     "data": {
      "text/plain": [
       "'Maximize netvalue (MAX Millions nok/m2) max'"
      ]
     },
     "metadata": {},
     "output_type": "display_data"
    },
    {
     "data": {
      "text/plain": [
       "28502.80672970331"
      ]
     },
     "metadata": {},
     "output_type": "display_data"
    },
    {
     "data": {
      "text/plain": [
       "'Maximize GROT in plots with harvest cost under 150 (maX)'"
      ]
     },
     "metadata": {},
     "output_type": "display_data"
    },
    {
     "data": {
      "text/plain": [
       "-1811.2051110803131"
      ]
     },
     "metadata": {},
     "output_type": "display_data"
    },
    {
     "data": {
      "text/plain": [
       "'Not decreasing area of MiS classified plots (not decrease)'"
      ]
     },
     "metadata": {},
     "output_type": "display_data"
    },
    {
     "data": {
      "text/plain": [
       "0.029338093193280585"
      ]
     },
     "metadata": {},
     "output_type": "display_data"
    },
    {
     "data": {
      "text/plain": [
       "'Minimum yearly incrase in vol Millions m3 of dead wood (max)'"
      ]
     },
     "metadata": {},
     "output_type": "display_data"
    },
    {
     "data": {
      "text/plain": [
       "0.0"
      ]
     },
     "metadata": {},
     "output_type": "display_data"
    },
    {
     "data": {
      "text/plain": [
       "'Minimum yearly incrase in vol Millions m3 of dead wood (max)'"
      ]
     },
     "metadata": {},
     "output_type": "display_data"
    },
    {
     "data": {
      "text/plain": [
       "0.0"
      ]
     },
     "metadata": {},
     "output_type": "display_data"
    },
    {
     "data": {
      "text/plain": [
       "'CO2_HWPMinimum yearly increase  (maximize'"
      ]
     },
     "metadata": {},
     "output_type": "display_data"
    },
    {
     "data": {
      "text/plain": [
       "-146945.16574767316"
      ]
     },
     "metadata": {},
     "output_type": "display_data"
    },
    {
     "name": "stdout",
     "output_type": "stream",
     "text": [
      " 50%|██████████████████████████████████████████                                          | 3/6 [04:08<04:08, 82.95s/it]"
     ]
    },
    {
     "data": {
      "text/plain": [
       "'Optimizing for Minimum yearly incrase in vol Millions m3 of dead wood (max)'"
      ]
     },
     "metadata": {},
     "output_type": "display_data"
    },
    {
     "data": {
      "text/plain": [
       "'Found an optimal solution in 82 seconds'"
      ]
     },
     "metadata": {},
     "output_type": "display_data"
    },
    {
     "data": {
      "text/plain": [
       "'Objective values are:'"
      ]
     },
     "metadata": {},
     "output_type": "display_data"
    },
    {
     "data": {
      "text/plain": [
       "'Maximize netvalue (MAX Millions nok/m2) max'"
      ]
     },
     "metadata": {},
     "output_type": "display_data"
    },
    {
     "data": {
      "text/plain": [
       "21284.231211748956"
      ]
     },
     "metadata": {},
     "output_type": "display_data"
    },
    {
     "data": {
      "text/plain": [
       "'Maximize GROT in plots with harvest cost under 150 (maX)'"
      ]
     },
     "metadata": {},
     "output_type": "display_data"
    },
    {
     "data": {
      "text/plain": [
       "-3336.071339177007"
      ]
     },
     "metadata": {},
     "output_type": "display_data"
    },
    {
     "data": {
      "text/plain": [
       "'Not decreasing area of MiS classified plots (not decrease)'"
      ]
     },
     "metadata": {},
     "output_type": "display_data"
    },
    {
     "data": {
      "text/plain": [
       "0.0"
      ]
     },
     "metadata": {},
     "output_type": "display_data"
    },
    {
     "data": {
      "text/plain": [
       "'Minimum yearly incrase in vol Millions m3 of dead wood (max)'"
      ]
     },
     "metadata": {},
     "output_type": "display_data"
    },
    {
     "data": {
      "text/plain": [
       "8.08038902688077"
      ]
     },
     "metadata": {},
     "output_type": "display_data"
    },
    {
     "data": {
      "text/plain": [
       "'Minimum yearly incrase in vol Millions m3 of dead wood (max)'"
      ]
     },
     "metadata": {},
     "output_type": "display_data"
    },
    {
     "data": {
      "text/plain": [
       "0.0"
      ]
     },
     "metadata": {},
     "output_type": "display_data"
    },
    {
     "data": {
      "text/plain": [
       "'CO2_HWPMinimum yearly increase  (maximize'"
      ]
     },
     "metadata": {},
     "output_type": "display_data"
    },
    {
     "data": {
      "text/plain": [
       "-136541.29053116366"
      ]
     },
     "metadata": {},
     "output_type": "display_data"
    },
    {
     "name": "stdout",
     "output_type": "stream",
     "text": [
      " 67%|████████████████████████████████████████████████████████                            | 4/6 [05:30<02:45, 82.82s/it]"
     ]
    },
    {
     "data": {
      "text/plain": [
       "'Optimizing for Minimum yearly incrase in vol Millions m3 of dead wood (max)'"
      ]
     },
     "metadata": {},
     "output_type": "display_data"
    },
    {
     "data": {
      "text/plain": [
       "'Found an optimal solution in 82 seconds'"
      ]
     },
     "metadata": {},
     "output_type": "display_data"
    },
    {
     "data": {
      "text/plain": [
       "'Objective values are:'"
      ]
     },
     "metadata": {},
     "output_type": "display_data"
    },
    {
     "data": {
      "text/plain": [
       "'Maximize netvalue (MAX Millions nok/m2) max'"
      ]
     },
     "metadata": {},
     "output_type": "display_data"
    },
    {
     "data": {
      "text/plain": [
       "21666.102295033197"
      ]
     },
     "metadata": {},
     "output_type": "display_data"
    },
    {
     "data": {
      "text/plain": [
       "'Maximize GROT in plots with harvest cost under 150 (maX)'"
      ]
     },
     "metadata": {},
     "output_type": "display_data"
    },
    {
     "data": {
      "text/plain": [
       "-2234.104136648366"
      ]
     },
     "metadata": {},
     "output_type": "display_data"
    },
    {
     "data": {
      "text/plain": [
       "'Not decreasing area of MiS classified plots (not decrease)'"
      ]
     },
     "metadata": {},
     "output_type": "display_data"
    },
    {
     "data": {
      "text/plain": [
       "0.0"
      ]
     },
     "metadata": {},
     "output_type": "display_data"
    },
    {
     "data": {
      "text/plain": [
       "'Minimum yearly incrase in vol Millions m3 of dead wood (max)'"
      ]
     },
     "metadata": {},
     "output_type": "display_data"
    },
    {
     "data": {
      "text/plain": [
       "0.0"
      ]
     },
     "metadata": {},
     "output_type": "display_data"
    },
    {
     "data": {
      "text/plain": [
       "'Minimum yearly incrase in vol Millions m3 of dead wood (max)'"
      ]
     },
     "metadata": {},
     "output_type": "display_data"
    },
    {
     "data": {
      "text/plain": [
       "0.026480861915116866"
      ]
     },
     "metadata": {},
     "output_type": "display_data"
    },
    {
     "data": {
      "text/plain": [
       "'CO2_HWPMinimum yearly increase  (maximize'"
      ]
     },
     "metadata": {},
     "output_type": "display_data"
    },
    {
     "data": {
      "text/plain": [
       "-112736.72038542714"
      ]
     },
     "metadata": {},
     "output_type": "display_data"
    },
    {
     "name": "stdout",
     "output_type": "stream",
     "text": [
      " 83%|██████████████████████████████████████████████████████████████████████              | 5/6 [06:53<01:22, 82.84s/it]"
     ]
    },
    {
     "data": {
      "text/plain": [
       "'Optimizing for CO2_HWPMinimum yearly increase  (maximize'"
      ]
     },
     "metadata": {},
     "output_type": "display_data"
    },
    {
     "data": {
      "text/plain": [
       "'Found an optimal solution in 119 seconds'"
      ]
     },
     "metadata": {},
     "output_type": "display_data"
    },
    {
     "data": {
      "text/plain": [
       "'Objective values are:'"
      ]
     },
     "metadata": {},
     "output_type": "display_data"
    },
    {
     "data": {
      "text/plain": [
       "'Maximize netvalue (MAX Millions nok/m2) max'"
      ]
     },
     "metadata": {},
     "output_type": "display_data"
    },
    {
     "data": {
      "text/plain": [
       "21543.473728392313"
      ]
     },
     "metadata": {},
     "output_type": "display_data"
    },
    {
     "data": {
      "text/plain": [
       "'Maximize GROT in plots with harvest cost under 150 (maX)'"
      ]
     },
     "metadata": {},
     "output_type": "display_data"
    },
    {
     "data": {
      "text/plain": [
       "-13116.995248515515"
      ]
     },
     "metadata": {},
     "output_type": "display_data"
    },
    {
     "data": {
      "text/plain": [
       "'Not decreasing area of MiS classified plots (not decrease)'"
      ]
     },
     "metadata": {},
     "output_type": "display_data"
    },
    {
     "data": {
      "text/plain": [
       "0.0"
      ]
     },
     "metadata": {},
     "output_type": "display_data"
    },
    {
     "data": {
      "text/plain": [
       "'Minimum yearly incrase in vol Millions m3 of dead wood (max)'"
      ]
     },
     "metadata": {},
     "output_type": "display_data"
    },
    {
     "data": {
      "text/plain": [
       "0.0"
      ]
     },
     "metadata": {},
     "output_type": "display_data"
    },
    {
     "data": {
      "text/plain": [
       "'Minimum yearly incrase in vol Millions m3 of dead wood (max)'"
      ]
     },
     "metadata": {},
     "output_type": "display_data"
    },
    {
     "data": {
      "text/plain": [
       "0.0"
      ]
     },
     "metadata": {},
     "output_type": "display_data"
    },
    {
     "data": {
      "text/plain": [
       "'CO2_HWPMinimum yearly increase  (maximize'"
      ]
     },
     "metadata": {},
     "output_type": "display_data"
    },
    {
     "data": {
      "text/plain": [
       "23623.204504437756"
      ]
     },
     "metadata": {},
     "output_type": "display_data"
    },
    {
     "name": "stdout",
     "output_type": "stream",
     "text": [
      "100%|████████████████████████████████████████████████████████████████████████████████████| 6/6 [08:53<00:00, 88.91s/it]\n"
     ]
    }
   ],
   "source": [
    "mfo.calculateObjectiveRanges()"
   ]
  },
  {
   "cell_type": "code",
   "execution_count": 41,
   "id": "756143e0-1037-4415-a570-50390ac14b36",
   "metadata": {},
   "outputs": [
    {
     "data": {
      "text/html": [
       "<style>\n",
       "            .widget-label { min-width: 60% !important; }\n",
       "        </style>"
      ],
      "text/plain": [
       "<IPython.core.display.HTML object>"
      ]
     },
     "metadata": {},
     "output_type": "display_data"
    },
    {
     "data": {
      "text/html": [
       "<h2>Epsilon constraint values</h2>"
      ],
      "text/plain": [
       "<IPython.core.display.HTML object>"
      ]
     },
     "metadata": {},
     "output_type": "display_data"
    },
    {
     "data": {
      "application/vnd.jupyter.widget-view+json": {
       "model_id": "27461abbc92c429a8149e989efe2a7c5",
       "version_major": 2,
       "version_minor": 0
      },
      "text/plain": [
       "interactive(children=(FloatSlider(value=21284.231211748956, description='Maximize netvalue (MAX Millions nok/m…"
      ]
     },
     "metadata": {},
     "output_type": "display_data"
    },
    {
     "data": {
      "text/html": [
       "<h2>Reference point</h2>"
      ],
      "text/plain": [
       "<IPython.core.display.HTML object>"
      ]
     },
     "metadata": {},
     "output_type": "display_data"
    },
    {
     "data": {
      "application/vnd.jupyter.widget-view+json": {
       "model_id": "c8d8cb18931f4f90a488d92345e8ab8f",
       "version_major": 2,
       "version_minor": 0
      },
      "text/plain": [
       "interactive(children=(FloatSlider(value=67876.26911646602, description='Maximize netvalue (MAX Millions nok/m2…"
      ]
     },
     "metadata": {},
     "output_type": "display_data"
    },
    {
     "data": {
      "text/html": [
       "<h2>Enabled constraints</h2>"
      ],
      "text/plain": [
       "<IPython.core.display.HTML object>"
      ]
     },
     "metadata": {},
     "output_type": "display_data"
    },
    {
     "data": {
      "application/vnd.jupyter.widget-view+json": {
       "model_id": "24dc766b0ab74241a9657b18ee024733",
       "version_major": 2,
       "version_minor": 0
      },
      "text/plain": [
       "interactive(children=(Button(description='Change constraints', style=ButtonStyle()), Output()), _dom_classes=(…"
      ]
     },
     "metadata": {},
     "output_type": "display_data"
    },
    {
     "data": {
      "application/vnd.jupyter.widget-view+json": {
       "model_id": "779315ab594340da834c837f6f16adaf",
       "version_major": 2,
       "version_minor": 0
      },
      "text/plain": [
       "Button(description='Print solution', style=ButtonStyle())"
      ]
     },
     "metadata": {},
     "output_type": "display_data"
    }
   ],
   "source": [
    "mfo.showGUI()"
   ]
  },
  {
   "cell_type": "code",
   "execution_count": 45,
   "id": "451f19b5-2c2a-4fc6-a8cc-6c603ae2c184",
   "metadata": {},
   "outputs": [],
   "source": [
    "import pandas as pd"
   ]
  },
  {
   "cell_type": "code",
   "execution_count": 47,
   "id": "c8dc01a6-2624-4040-8601-74583e5e3b50",
   "metadata": {},
   "outputs": [],
   "source": [
    "import os\n",
    "\n",
    "try:\n",
    "    os.mkdir(\"results\")\n",
    "except FileExistsError:\n",
    "    pass\n",
    "b = []\n",
    "c = []\n",
    "for key in mfo.regimesDecision.keys():\n",
    "    if mfo.regimesDecision[key].solution_value() > 0:\n",
    "        b = b+ [(key[0],x*5+2018, key[1]) for x in range(0,22)]\n",
    "        c = c+ [(key[0],key[1],mfo.regimesDecision[key].solution_value())]\n",
    "data2b = mfo.data.iloc[mfo.data.index.isin(b)]\n",
    "data2b.to_csv(\"./results/solution_alldata_Assess4EST_RCP45_nogenc.csv\")\n",
    "c1 = pd.DataFrame(c)\n",
    "c1.to_csv(\"./results/solution_Assess4EST_RCP45_nogenc.csv\")"
   ]
  },
  {
   "cell_type": "code",
   "execution_count": 59,
   "id": "77f53fb1-cd18-4004-8561-589f6115da88",
   "metadata": {},
   "outputs": [],
   "source": [
    "import json\n",
    "mfo.objectiveRanges\n",
    "\n",
    "with open(\"results/objectiveRanges_Assess4EST_RCP45_nogen.json\", \"w\") as json_file:\n",
    "    json.dump(mfo.objectiveRanges, json_file)"
   ]
  },
  {
   "cell_type": "code",
   "execution_count": 60,
   "id": "932b4fc2-cc77-4c6b-bdf0-9157baeba7e5",
   "metadata": {},
   "outputs": [],
   "source": [
    "import pandas\n",
    "df = pandas.read_json(\"results/objectiveRanges_Assess4EST_RCP45_nogen.json\")\n",
    "df.to_csv(\"results/objectiveRanges_Assess4EST_RCP45_nogen.csv\")"
   ]
  },
  {
   "cell_type": "code",
   "execution_count": 61,
   "id": "1576c892-0652-4133-956e-4d70e7c578c1",
   "metadata": {},
   "outputs": [],
   "source": [
    "import os\n",
    "with open(\"./results/objectiveValues_Assess4EST_RCP45_nogen.csv\",\"w\") as file: \n",
    "    delim = \"\" \n",
    "    for objName in mfo.objectiveTypes.keys():\n",
    "        file.write(delim+objName) \n",
    "        delim = \",\" \n",
    "    file.write(\"\\n\") \n",
    "    delim = \"\" \n",
    "    for objName in mfo.objectiveTypes.keys():\n",
    "            file.write(delim+str(mfo.objective[objName].solution_value())) \n",
    "            delim = \",\" \n",
    "    file.write(\"\\n\")"
   ]
  },
  {
   "cell_type": "code",
   "execution_count": null,
   "id": "886687df-f936-4ec3-8889-e225cdbafc6f",
   "metadata": {},
   "outputs": [],
   "source": []
  }
 ],
 "metadata": {
  "kernelspec": {
   "display_name": "Python 3 (ipykernel)",
   "language": "python",
   "name": "python3"
  },
  "language_info": {
   "codemirror_mode": {
    "name": "ipython",
    "version": 3
   },
   "file_extension": ".py",
   "mimetype": "text/x-python",
   "name": "python",
   "nbconvert_exporter": "python",
   "pygments_lexer": "ipython3",
   "version": "3.12.3"
  }
 },
 "nbformat": 4,
 "nbformat_minor": 5
}
