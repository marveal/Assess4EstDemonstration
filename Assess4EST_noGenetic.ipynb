{
 "cells": [
  {
   "cell_type": "code",
   "execution_count": 1,
   "id": "878cbe31-ec3e-44ee-a2b2-155ac5a6e784",
   "metadata": {},
   "outputs": [],
   "source": [
    "import pandas as pd\n",
    "import numpy as np\n",
    "import os\n",
    "import wget\n",
    "from datetime import datetime"
   ]
  },
  {
   "cell_type": "code",
   "execution_count": 3,
   "id": "50b50196-c4a8-48b8-821e-66c58c38b57e",
   "metadata": {},
   "outputs": [],
   "source": [
    "import multiFunctionalOptimization as MFO"
   ]
  },
  {
   "cell_type": "code",
   "execution_count": 5,
   "id": "5bf78e0b-6ffe-484c-b8ac-7bde65a7c3de",
   "metadata": {},
   "outputs": [
    {
     "data": {
      "text/plain": [
       "<module 'multiFunctionalOptimization' from 'C:\\\\Users\\\\mver\\\\Desktop\\\\multiforestOptimizationNotebook\\\\multiFunctionalOptimization.py'>"
      ]
     },
     "execution_count": 5,
     "metadata": {},
     "output_type": "execute_result"
    }
   ],
   "source": [
    "from importlib import reload\n",
    "reload(MFO)"
   ]
  },
  {
   "cell_type": "code",
   "execution_count": 7,
   "id": "45cac85a-718b-406a-a7e4-1582d6d7087d",
   "metadata": {},
   "outputs": [
    {
     "data": {
      "text/plain": [
       "'Using CLP'"
      ]
     },
     "metadata": {},
     "output_type": "display_data"
    }
   ],
   "source": [
    "mfo = MFO.MultiFunctionalOptimization()"
   ]
  },
  {
   "cell_type": "code",
   "execution_count": 9,
   "id": "8b023034-2245-4d1a-b7c5-9e9aae1d6b7c",
   "metadata": {},
   "outputs": [],
   "source": [
    "filename = \"FES_Assess4EST_RCP45_2024-07-26.csv\""
   ]
  },
  {
   "cell_type": "code",
   "execution_count": 11,
   "id": "ea1c6c72-d542-4ffd-9b56-27440dbc967a",
   "metadata": {},
   "outputs": [
    {
     "name": "stdout",
     "output_type": "stream",
     "text": [
      "CPU times: total: 10.5 s\n",
      "Wall time: 12.8 s\n"
     ]
    }
   ],
   "source": [
    "%%time\n",
    "mfo.readData(filename,standsEnu = \"plot_id\",delimeter = \",\",areaCol = \"tsd_ha2total\")"
   ]
  },
  {
   "cell_type": "code",
   "execution_count": 12,
   "id": "fd1f1583-7509-4429-bb7c-bc9f8068aecd",
   "metadata": {},
   "outputs": [],
   "source": [
    "mfo.finalizeData(initialTime = 2018)"
   ]
  },
  {
   "cell_type": "code",
   "execution_count": 13,
   "id": "f90575ee-d70a-4324-bd07-a3907d215acd",
   "metadata": {},
   "outputs": [
    {
     "data": {
      "text/plain": [
       "Index(['period', 'pulp_vol_m3', 'harv_cost_nok_m3', 'harv_cost_u150',\n",
       "       'harv_cost_u200', 'biomass_CO2_change_t_period', 'net_increment_m3',\n",
       "       'is_old', 'is_broadleave', 'MiS_classified_plot', 'bilberry_cover_pr',\n",
       "       'GROT_kt_TotNor', 'vol_saw_m3', 'saw_CO2_t', 'saw_CO2_change_t',\n",
       "       'vol_panels_m3', 'panels_CO2_t', 'panels_CO2_change_t',\n",
       "       'is_steep_terrain', 'is_vernskog', 'is_city_forest', 'shan',\n",
       "       'class_dbh', 'Nsp', 'ha2total', 'management', 'harv_net_Mnok_TotNor',\n",
       "       'harv_vol_Mm3_TotNor', 'saw_vol_Mm3_TotNor', 'pulp_vol_Mm3_TotNor',\n",
       "       'dead_vol_Mm3_TotNor', 'tsd_ha2total', 'saw_CO2_change_Kt_TotNor',\n",
       "       'saw_CO2_Kt_TotNor', 'panels_CO2_change_Kt_TotNor', 'HWP_C02_Kt_TotNor',\n",
       "       'Bilberry_ha_TotNor', 'MiS_ha', 'SawTimber_Mm3_year', 'pulp_Mm3_year',\n",
       "       'GROT_t', 'GROT_m3', 'GROT_Mm3', 'Residues_Mm3_year',\n",
       "       'harvest_demands_Mm3_year', 'regime.class', 'finalFelling', 'is_CCF',\n",
       "       'is_nomanagement', 'is_vers_or_ste', 'FinaL_versk', 'FinaL_city',\n",
       "       'High_classdbh', 'Sha_highclassdbh_Tot_Nor', 'Relative_shan',\n",
       "       'Relative_ha2total', 'Relative_dead_vol_Mm3_TotNor',\n",
       "       'Relative_tsd_ha2total', 'Relative_MiS_ha',\n",
       "       'Relative_Sha_highclassdbh_Tot_Nor'],\n",
       "      dtype='object')"
      ]
     },
     "execution_count": 13,
     "metadata": {},
     "output_type": "execute_result"
    }
   ],
   "source": [
    "mfo.data.columns"
   ]
  },
  {
   "cell_type": "code",
   "execution_count": 14,
   "id": "70410f14-106f-4405-b904-8fcc252a8c68",
   "metadata": {},
   "outputs": [
    {
     "data": {
      "text/html": [
       "<div>\n",
       "<style scoped>\n",
       "    .dataframe tbody tr th:only-of-type {\n",
       "        vertical-align: middle;\n",
       "    }\n",
       "\n",
       "    .dataframe tbody tr th {\n",
       "        vertical-align: top;\n",
       "    }\n",
       "\n",
       "    .dataframe thead th {\n",
       "        text-align: right;\n",
       "    }\n",
       "</style>\n",
       "<table border=\"1\" class=\"dataframe\">\n",
       "  <thead>\n",
       "    <tr style=\"text-align: right;\">\n",
       "      <th></th>\n",
       "      <th></th>\n",
       "      <th></th>\n",
       "      <th>period</th>\n",
       "      <th>pulp_vol_m3</th>\n",
       "      <th>harv_cost_nok_m3</th>\n",
       "      <th>harv_cost_u150</th>\n",
       "      <th>harv_cost_u200</th>\n",
       "      <th>biomass_CO2_change_t_period</th>\n",
       "      <th>net_increment_m3</th>\n",
       "      <th>is_old</th>\n",
       "      <th>is_broadleave</th>\n",
       "      <th>MiS_classified_plot</th>\n",
       "      <th>...</th>\n",
       "      <th>FinaL_versk</th>\n",
       "      <th>FinaL_city</th>\n",
       "      <th>High_classdbh</th>\n",
       "      <th>Sha_highclassdbh_Tot_Nor</th>\n",
       "      <th>Relative_shan</th>\n",
       "      <th>Relative_ha2total</th>\n",
       "      <th>Relative_dead_vol_Mm3_TotNor</th>\n",
       "      <th>Relative_tsd_ha2total</th>\n",
       "      <th>Relative_MiS_ha</th>\n",
       "      <th>Relative_Sha_highclassdbh_Tot_Nor</th>\n",
       "    </tr>\n",
       "    <tr>\n",
       "      <th>plot_id</th>\n",
       "      <th>year</th>\n",
       "      <th>regime</th>\n",
       "      <th></th>\n",
       "      <th></th>\n",
       "      <th></th>\n",
       "      <th></th>\n",
       "      <th></th>\n",
       "      <th></th>\n",
       "      <th></th>\n",
       "      <th></th>\n",
       "      <th></th>\n",
       "      <th></th>\n",
       "      <th></th>\n",
       "      <th></th>\n",
       "      <th></th>\n",
       "      <th></th>\n",
       "      <th></th>\n",
       "      <th></th>\n",
       "      <th></th>\n",
       "      <th></th>\n",
       "      <th></th>\n",
       "      <th></th>\n",
       "      <th></th>\n",
       "    </tr>\n",
       "  </thead>\n",
       "  <tbody>\n",
       "    <tr>\n",
       "      <th rowspan=\"5\" valign=\"top\">A03059-0</th>\n",
       "      <th rowspan=\"5\" valign=\"top\">2023</th>\n",
       "      <th>SimOpt_extensive_0</th>\n",
       "      <td>t1</td>\n",
       "      <td>0.0</td>\n",
       "      <td>0.0</td>\n",
       "      <td>0</td>\n",
       "      <td>0</td>\n",
       "      <td>11952.080236</td>\n",
       "      <td>11067.20264</td>\n",
       "      <td>0</td>\n",
       "      <td>0</td>\n",
       "      <td>0</td>\n",
       "      <td>...</td>\n",
       "      <td>0</td>\n",
       "      <td>0</td>\n",
       "      <td>1</td>\n",
       "      <td>185.828111</td>\n",
       "      <td>0.000046</td>\n",
       "      <td>0.00011</td>\n",
       "      <td>0.000051</td>\n",
       "      <td>0.00011</td>\n",
       "      <td>0.0</td>\n",
       "      <td>0.000057</td>\n",
       "    </tr>\n",
       "    <tr>\n",
       "      <th>SimOpt_extensive_long_0</th>\n",
       "      <td>t1</td>\n",
       "      <td>0.0</td>\n",
       "      <td>0.0</td>\n",
       "      <td>0</td>\n",
       "      <td>0</td>\n",
       "      <td>11952.080236</td>\n",
       "      <td>11067.20264</td>\n",
       "      <td>0</td>\n",
       "      <td>0</td>\n",
       "      <td>0</td>\n",
       "      <td>...</td>\n",
       "      <td>0</td>\n",
       "      <td>0</td>\n",
       "      <td>1</td>\n",
       "      <td>185.828111</td>\n",
       "      <td>0.000046</td>\n",
       "      <td>0.00011</td>\n",
       "      <td>0.000051</td>\n",
       "      <td>0.00011</td>\n",
       "      <td>0.0</td>\n",
       "      <td>0.000057</td>\n",
       "    </tr>\n",
       "    <tr>\n",
       "      <th>SimOpt_int_0</th>\n",
       "      <td>t1</td>\n",
       "      <td>0.0</td>\n",
       "      <td>0.0</td>\n",
       "      <td>0</td>\n",
       "      <td>0</td>\n",
       "      <td>11952.080236</td>\n",
       "      <td>11067.20264</td>\n",
       "      <td>0</td>\n",
       "      <td>0</td>\n",
       "      <td>0</td>\n",
       "      <td>...</td>\n",
       "      <td>0</td>\n",
       "      <td>0</td>\n",
       "      <td>1</td>\n",
       "      <td>185.828111</td>\n",
       "      <td>0.000046</td>\n",
       "      <td>0.00011</td>\n",
       "      <td>0.000051</td>\n",
       "      <td>0.00011</td>\n",
       "      <td>0.0</td>\n",
       "      <td>0.000057</td>\n",
       "    </tr>\n",
       "    <tr>\n",
       "      <th>SimOpt_int_short_0</th>\n",
       "      <td>t1</td>\n",
       "      <td>0.0</td>\n",
       "      <td>0.0</td>\n",
       "      <td>0</td>\n",
       "      <td>0</td>\n",
       "      <td>11952.080236</td>\n",
       "      <td>11067.20264</td>\n",
       "      <td>0</td>\n",
       "      <td>0</td>\n",
       "      <td>0</td>\n",
       "      <td>...</td>\n",
       "      <td>0</td>\n",
       "      <td>0</td>\n",
       "      <td>1</td>\n",
       "      <td>185.828111</td>\n",
       "      <td>0.000046</td>\n",
       "      <td>0.00011</td>\n",
       "      <td>0.000051</td>\n",
       "      <td>0.00011</td>\n",
       "      <td>0.0</td>\n",
       "      <td>0.000057</td>\n",
       "    </tr>\n",
       "    <tr>\n",
       "      <th>SimOpt_no_management_0</th>\n",
       "      <td>t1</td>\n",
       "      <td>0.0</td>\n",
       "      <td>0.0</td>\n",
       "      <td>0</td>\n",
       "      <td>0</td>\n",
       "      <td>11952.080236</td>\n",
       "      <td>11067.20264</td>\n",
       "      <td>0</td>\n",
       "      <td>0</td>\n",
       "      <td>0</td>\n",
       "      <td>...</td>\n",
       "      <td>0</td>\n",
       "      <td>0</td>\n",
       "      <td>1</td>\n",
       "      <td>185.828111</td>\n",
       "      <td>0.000046</td>\n",
       "      <td>0.00011</td>\n",
       "      <td>0.000051</td>\n",
       "      <td>0.00011</td>\n",
       "      <td>0.0</td>\n",
       "      <td>0.000057</td>\n",
       "    </tr>\n",
       "  </tbody>\n",
       "</table>\n",
       "<p>5 rows × 60 columns</p>\n",
       "</div>"
      ],
      "text/plain": [
       "                                      period  pulp_vol_m3  harv_cost_nok_m3  \\\n",
       "plot_id  year regime                                                          \n",
       "A03059-0 2023 SimOpt_extensive_0          t1          0.0               0.0   \n",
       "              SimOpt_extensive_long_0     t1          0.0               0.0   \n",
       "              SimOpt_int_0                t1          0.0               0.0   \n",
       "              SimOpt_int_short_0          t1          0.0               0.0   \n",
       "              SimOpt_no_management_0      t1          0.0               0.0   \n",
       "\n",
       "                                       harv_cost_u150  harv_cost_u200  \\\n",
       "plot_id  year regime                                                    \n",
       "A03059-0 2023 SimOpt_extensive_0                    0               0   \n",
       "              SimOpt_extensive_long_0               0               0   \n",
       "              SimOpt_int_0                          0               0   \n",
       "              SimOpt_int_short_0                    0               0   \n",
       "              SimOpt_no_management_0                0               0   \n",
       "\n",
       "                                       biomass_CO2_change_t_period  \\\n",
       "plot_id  year regime                                                 \n",
       "A03059-0 2023 SimOpt_extensive_0                      11952.080236   \n",
       "              SimOpt_extensive_long_0                 11952.080236   \n",
       "              SimOpt_int_0                            11952.080236   \n",
       "              SimOpt_int_short_0                      11952.080236   \n",
       "              SimOpt_no_management_0                  11952.080236   \n",
       "\n",
       "                                       net_increment_m3  is_old  \\\n",
       "plot_id  year regime                                              \n",
       "A03059-0 2023 SimOpt_extensive_0            11067.20264       0   \n",
       "              SimOpt_extensive_long_0       11067.20264       0   \n",
       "              SimOpt_int_0                  11067.20264       0   \n",
       "              SimOpt_int_short_0            11067.20264       0   \n",
       "              SimOpt_no_management_0        11067.20264       0   \n",
       "\n",
       "                                       is_broadleave  MiS_classified_plot  \\\n",
       "plot_id  year regime                                                        \n",
       "A03059-0 2023 SimOpt_extensive_0                   0                    0   \n",
       "              SimOpt_extensive_long_0              0                    0   \n",
       "              SimOpt_int_0                         0                    0   \n",
       "              SimOpt_int_short_0                   0                    0   \n",
       "              SimOpt_no_management_0               0                    0   \n",
       "\n",
       "                                       ...  FinaL_versk  FinaL_city  \\\n",
       "plot_id  year regime                   ...                            \n",
       "A03059-0 2023 SimOpt_extensive_0       ...            0           0   \n",
       "              SimOpt_extensive_long_0  ...            0           0   \n",
       "              SimOpt_int_0             ...            0           0   \n",
       "              SimOpt_int_short_0       ...            0           0   \n",
       "              SimOpt_no_management_0   ...            0           0   \n",
       "\n",
       "                                       High_classdbh  \\\n",
       "plot_id  year regime                                   \n",
       "A03059-0 2023 SimOpt_extensive_0                   1   \n",
       "              SimOpt_extensive_long_0              1   \n",
       "              SimOpt_int_0                         1   \n",
       "              SimOpt_int_short_0                   1   \n",
       "              SimOpt_no_management_0               1   \n",
       "\n",
       "                                       Sha_highclassdbh_Tot_Nor  \\\n",
       "plot_id  year regime                                              \n",
       "A03059-0 2023 SimOpt_extensive_0                     185.828111   \n",
       "              SimOpt_extensive_long_0                185.828111   \n",
       "              SimOpt_int_0                           185.828111   \n",
       "              SimOpt_int_short_0                     185.828111   \n",
       "              SimOpt_no_management_0                 185.828111   \n",
       "\n",
       "                                       Relative_shan  Relative_ha2total  \\\n",
       "plot_id  year regime                                                      \n",
       "A03059-0 2023 SimOpt_extensive_0            0.000046            0.00011   \n",
       "              SimOpt_extensive_long_0       0.000046            0.00011   \n",
       "              SimOpt_int_0                  0.000046            0.00011   \n",
       "              SimOpt_int_short_0            0.000046            0.00011   \n",
       "              SimOpt_no_management_0        0.000046            0.00011   \n",
       "\n",
       "                                       Relative_dead_vol_Mm3_TotNor  \\\n",
       "plot_id  year regime                                                  \n",
       "A03059-0 2023 SimOpt_extensive_0                           0.000051   \n",
       "              SimOpt_extensive_long_0                      0.000051   \n",
       "              SimOpt_int_0                                 0.000051   \n",
       "              SimOpt_int_short_0                           0.000051   \n",
       "              SimOpt_no_management_0                       0.000051   \n",
       "\n",
       "                                       Relative_tsd_ha2total  Relative_MiS_ha  \\\n",
       "plot_id  year regime                                                            \n",
       "A03059-0 2023 SimOpt_extensive_0                     0.00011              0.0   \n",
       "              SimOpt_extensive_long_0                0.00011              0.0   \n",
       "              SimOpt_int_0                           0.00011              0.0   \n",
       "              SimOpt_int_short_0                     0.00011              0.0   \n",
       "              SimOpt_no_management_0                 0.00011              0.0   \n",
       "\n",
       "                                       Relative_Sha_highclassdbh_Tot_Nor  \n",
       "plot_id  year regime                                                      \n",
       "A03059-0 2023 SimOpt_extensive_0                                0.000057  \n",
       "              SimOpt_extensive_long_0                           0.000057  \n",
       "              SimOpt_int_0                                      0.000057  \n",
       "              SimOpt_int_short_0                                0.000057  \n",
       "              SimOpt_no_management_0                            0.000057  \n",
       "\n",
       "[5 rows x 60 columns]"
      ]
     },
     "execution_count": 14,
     "metadata": {},
     "output_type": "execute_result"
    }
   ],
   "source": [
    "mfo.data.head()"
   ]
  },
  {
   "cell_type": "code",
   "execution_count": 15,
   "id": "f69101be-4373-46fe-b6e6-0398c563f53a",
   "metadata": {},
   "outputs": [
    {
     "data": {
      "text/html": [
       "<div>\n",
       "<style scoped>\n",
       "    .dataframe tbody tr th:only-of-type {\n",
       "        vertical-align: middle;\n",
       "    }\n",
       "\n",
       "    .dataframe tbody tr th {\n",
       "        vertical-align: top;\n",
       "    }\n",
       "\n",
       "    .dataframe thead th {\n",
       "        text-align: right;\n",
       "    }\n",
       "</style>\n",
       "<table border=\"1\" class=\"dataframe\">\n",
       "  <thead>\n",
       "    <tr style=\"text-align: right;\">\n",
       "      <th></th>\n",
       "      <th></th>\n",
       "      <th></th>\n",
       "      <th>period</th>\n",
       "      <th>pulp_vol_m3</th>\n",
       "      <th>harv_cost_nok_m3</th>\n",
       "      <th>harv_cost_u150</th>\n",
       "      <th>harv_cost_u200</th>\n",
       "      <th>biomass_CO2_change_t_period</th>\n",
       "      <th>net_increment_m3</th>\n",
       "      <th>is_old</th>\n",
       "      <th>is_broadleave</th>\n",
       "      <th>MiS_classified_plot</th>\n",
       "      <th>...</th>\n",
       "      <th>harvest_demands_Mm3_year</th>\n",
       "      <th>regime.class</th>\n",
       "      <th>finalFelling</th>\n",
       "      <th>is_CCF</th>\n",
       "      <th>is_nomanagement</th>\n",
       "      <th>is_vers_or_ste</th>\n",
       "      <th>FinaL_versk</th>\n",
       "      <th>FinaL_city</th>\n",
       "      <th>High_classdbh</th>\n",
       "      <th>Sha_highclassdbh_Tot_Nor</th>\n",
       "    </tr>\n",
       "    <tr>\n",
       "      <th>plot_id</th>\n",
       "      <th>year</th>\n",
       "      <th>regime</th>\n",
       "      <th></th>\n",
       "      <th></th>\n",
       "      <th></th>\n",
       "      <th></th>\n",
       "      <th></th>\n",
       "      <th></th>\n",
       "      <th></th>\n",
       "      <th></th>\n",
       "      <th></th>\n",
       "      <th></th>\n",
       "      <th></th>\n",
       "      <th></th>\n",
       "      <th></th>\n",
       "      <th></th>\n",
       "      <th></th>\n",
       "      <th></th>\n",
       "      <th></th>\n",
       "      <th></th>\n",
       "      <th></th>\n",
       "      <th></th>\n",
       "      <th></th>\n",
       "    </tr>\n",
       "  </thead>\n",
       "  <tbody>\n",
       "    <tr>\n",
       "      <th>A03059-0</th>\n",
       "      <th>2018</th>\n",
       "      <th>SimOpt_no_management_0</th>\n",
       "      <td>t0</td>\n",
       "      <td>0.0</td>\n",
       "      <td>0.0</td>\n",
       "      <td>0</td>\n",
       "      <td>0</td>\n",
       "      <td>0.0</td>\n",
       "      <td>0.0</td>\n",
       "      <td>0</td>\n",
       "      <td>0</td>\n",
       "      <td>0</td>\n",
       "      <td>...</td>\n",
       "      <td>0.0</td>\n",
       "      <td>no_management</td>\n",
       "      <td>False</td>\n",
       "      <td>1</td>\n",
       "      <td>0</td>\n",
       "      <td>0</td>\n",
       "      <td>0</td>\n",
       "      <td>0</td>\n",
       "      <td>1</td>\n",
       "      <td>178.909481</td>\n",
       "    </tr>\n",
       "    <tr>\n",
       "      <th>A03095-1</th>\n",
       "      <th>2018</th>\n",
       "      <th>SimOpt_no_management_0</th>\n",
       "      <td>t0</td>\n",
       "      <td>0.0</td>\n",
       "      <td>0.0</td>\n",
       "      <td>0</td>\n",
       "      <td>0</td>\n",
       "      <td>0.0</td>\n",
       "      <td>0.0</td>\n",
       "      <td>0</td>\n",
       "      <td>0</td>\n",
       "      <td>0</td>\n",
       "      <td>...</td>\n",
       "      <td>0.0</td>\n",
       "      <td>no_management</td>\n",
       "      <td>False</td>\n",
       "      <td>1</td>\n",
       "      <td>0</td>\n",
       "      <td>0</td>\n",
       "      <td>0</td>\n",
       "      <td>0</td>\n",
       "      <td>1</td>\n",
       "      <td>0.000000</td>\n",
       "    </tr>\n",
       "    <tr>\n",
       "      <th>A03102-0</th>\n",
       "      <th>2018</th>\n",
       "      <th>SimOpt_no_management_0</th>\n",
       "      <td>t0</td>\n",
       "      <td>0.0</td>\n",
       "      <td>0.0</td>\n",
       "      <td>0</td>\n",
       "      <td>0</td>\n",
       "      <td>0.0</td>\n",
       "      <td>0.0</td>\n",
       "      <td>0</td>\n",
       "      <td>0</td>\n",
       "      <td>0</td>\n",
       "      <td>...</td>\n",
       "      <td>0.0</td>\n",
       "      <td>no_management</td>\n",
       "      <td>False</td>\n",
       "      <td>1</td>\n",
       "      <td>0</td>\n",
       "      <td>0</td>\n",
       "      <td>0</td>\n",
       "      <td>0</td>\n",
       "      <td>0</td>\n",
       "      <td>0.000000</td>\n",
       "    </tr>\n",
       "    <tr>\n",
       "      <th>A03152-0</th>\n",
       "      <th>2018</th>\n",
       "      <th>SimOpt_no_management_0</th>\n",
       "      <td>t0</td>\n",
       "      <td>0.0</td>\n",
       "      <td>0.0</td>\n",
       "      <td>0</td>\n",
       "      <td>0</td>\n",
       "      <td>0.0</td>\n",
       "      <td>0.0</td>\n",
       "      <td>1</td>\n",
       "      <td>5</td>\n",
       "      <td>1</td>\n",
       "      <td>...</td>\n",
       "      <td>0.0</td>\n",
       "      <td>no_management</td>\n",
       "      <td>False</td>\n",
       "      <td>1</td>\n",
       "      <td>0</td>\n",
       "      <td>1</td>\n",
       "      <td>0</td>\n",
       "      <td>0</td>\n",
       "      <td>1</td>\n",
       "      <td>1381.653616</td>\n",
       "    </tr>\n",
       "    <tr>\n",
       "      <th>A03153-0</th>\n",
       "      <th>2018</th>\n",
       "      <th>SimOpt_no_management_0</th>\n",
       "      <td>t0</td>\n",
       "      <td>0.0</td>\n",
       "      <td>0.0</td>\n",
       "      <td>0</td>\n",
       "      <td>0</td>\n",
       "      <td>0.0</td>\n",
       "      <td>0.0</td>\n",
       "      <td>0</td>\n",
       "      <td>0</td>\n",
       "      <td>0</td>\n",
       "      <td>...</td>\n",
       "      <td>0.0</td>\n",
       "      <td>no_management</td>\n",
       "      <td>False</td>\n",
       "      <td>1</td>\n",
       "      <td>0</td>\n",
       "      <td>1</td>\n",
       "      <td>0</td>\n",
       "      <td>0</td>\n",
       "      <td>0</td>\n",
       "      <td>0.000000</td>\n",
       "    </tr>\n",
       "  </tbody>\n",
       "</table>\n",
       "<p>5 rows × 54 columns</p>\n",
       "</div>"
      ],
      "text/plain": [
       "                                     period  pulp_vol_m3  harv_cost_nok_m3  \\\n",
       "plot_id  year regime                                                         \n",
       "A03059-0 2018 SimOpt_no_management_0     t0          0.0               0.0   \n",
       "A03095-1 2018 SimOpt_no_management_0     t0          0.0               0.0   \n",
       "A03102-0 2018 SimOpt_no_management_0     t0          0.0               0.0   \n",
       "A03152-0 2018 SimOpt_no_management_0     t0          0.0               0.0   \n",
       "A03153-0 2018 SimOpt_no_management_0     t0          0.0               0.0   \n",
       "\n",
       "                                      harv_cost_u150  harv_cost_u200  \\\n",
       "plot_id  year regime                                                   \n",
       "A03059-0 2018 SimOpt_no_management_0               0               0   \n",
       "A03095-1 2018 SimOpt_no_management_0               0               0   \n",
       "A03102-0 2018 SimOpt_no_management_0               0               0   \n",
       "A03152-0 2018 SimOpt_no_management_0               0               0   \n",
       "A03153-0 2018 SimOpt_no_management_0               0               0   \n",
       "\n",
       "                                      biomass_CO2_change_t_period  \\\n",
       "plot_id  year regime                                                \n",
       "A03059-0 2018 SimOpt_no_management_0                          0.0   \n",
       "A03095-1 2018 SimOpt_no_management_0                          0.0   \n",
       "A03102-0 2018 SimOpt_no_management_0                          0.0   \n",
       "A03152-0 2018 SimOpt_no_management_0                          0.0   \n",
       "A03153-0 2018 SimOpt_no_management_0                          0.0   \n",
       "\n",
       "                                      net_increment_m3  is_old  is_broadleave  \\\n",
       "plot_id  year regime                                                            \n",
       "A03059-0 2018 SimOpt_no_management_0               0.0       0              0   \n",
       "A03095-1 2018 SimOpt_no_management_0               0.0       0              0   \n",
       "A03102-0 2018 SimOpt_no_management_0               0.0       0              0   \n",
       "A03152-0 2018 SimOpt_no_management_0               0.0       1              5   \n",
       "A03153-0 2018 SimOpt_no_management_0               0.0       0              0   \n",
       "\n",
       "                                      MiS_classified_plot  ...  \\\n",
       "plot_id  year regime                                       ...   \n",
       "A03059-0 2018 SimOpt_no_management_0                    0  ...   \n",
       "A03095-1 2018 SimOpt_no_management_0                    0  ...   \n",
       "A03102-0 2018 SimOpt_no_management_0                    0  ...   \n",
       "A03152-0 2018 SimOpt_no_management_0                    1  ...   \n",
       "A03153-0 2018 SimOpt_no_management_0                    0  ...   \n",
       "\n",
       "                                      harvest_demands_Mm3_year   regime.class  \\\n",
       "plot_id  year regime                                                            \n",
       "A03059-0 2018 SimOpt_no_management_0                       0.0  no_management   \n",
       "A03095-1 2018 SimOpt_no_management_0                       0.0  no_management   \n",
       "A03102-0 2018 SimOpt_no_management_0                       0.0  no_management   \n",
       "A03152-0 2018 SimOpt_no_management_0                       0.0  no_management   \n",
       "A03153-0 2018 SimOpt_no_management_0                       0.0  no_management   \n",
       "\n",
       "                                      finalFelling  is_CCF  is_nomanagement  \\\n",
       "plot_id  year regime                                                          \n",
       "A03059-0 2018 SimOpt_no_management_0         False       1                0   \n",
       "A03095-1 2018 SimOpt_no_management_0         False       1                0   \n",
       "A03102-0 2018 SimOpt_no_management_0         False       1                0   \n",
       "A03152-0 2018 SimOpt_no_management_0         False       1                0   \n",
       "A03153-0 2018 SimOpt_no_management_0         False       1                0   \n",
       "\n",
       "                                      is_vers_or_ste  FinaL_versk  FinaL_city  \\\n",
       "plot_id  year regime                                                            \n",
       "A03059-0 2018 SimOpt_no_management_0               0            0           0   \n",
       "A03095-1 2018 SimOpt_no_management_0               0            0           0   \n",
       "A03102-0 2018 SimOpt_no_management_0               0            0           0   \n",
       "A03152-0 2018 SimOpt_no_management_0               1            0           0   \n",
       "A03153-0 2018 SimOpt_no_management_0               1            0           0   \n",
       "\n",
       "                                      High_classdbh  Sha_highclassdbh_Tot_Nor  \n",
       "plot_id  year regime                                                           \n",
       "A03059-0 2018 SimOpt_no_management_0              1                178.909481  \n",
       "A03095-1 2018 SimOpt_no_management_0              1                  0.000000  \n",
       "A03102-0 2018 SimOpt_no_management_0              0                  0.000000  \n",
       "A03152-0 2018 SimOpt_no_management_0              1               1381.653616  \n",
       "A03153-0 2018 SimOpt_no_management_0              0                  0.000000  \n",
       "\n",
       "[5 rows x 54 columns]"
      ]
     },
     "execution_count": 15,
     "metadata": {},
     "output_type": "execute_result"
    }
   ],
   "source": [
    "mfo.initialData.head()"
   ]
  },
  {
   "cell_type": "code",
   "execution_count": 16,
   "id": "adcbbc53-3018-4091-8eeb-60b80dab76ae",
   "metadata": {},
   "outputs": [],
   "source": [
    "Wood_production =  {\n",
    "    #objective\n",
    "    ## harv_net_Mnork_TotNor net value of saw and pulp for spruce pine and birch\n",
    "    \"harvest_netvalue_Mnok_sum\": [\"Maximize netvalue (MAX Millions nok/m2) max\",\n",
    "                             \"harv_net_Mnok_TotNor\", \"max\",\"sum\",\"sum\"], \n",
    "}"
   ]
  },
  {
   "cell_type": "code",
   "execution_count": 17,
   "id": "a19b6779-938f-45b3-bb9f-bbd74d960a26",
   "metadata": {},
   "outputs": [],
   "source": [
    "\n",
    "Bionergy = {\n",
    "    ## maximize GROT in plots with cost under 150 NOK (økt, lønnsom produksjon av bioenergi (p. 14)) \n",
    "    ##  increased, profitable production of bioenergy\n",
    "    #objective\n",
    "     \"GROTIncreaseInHarvCost150\":[\"Maximize GROT in plots with harvest cost under 150 (maX)\",\n",
    "                                  \"GROT_kt_TotNor\", \"max\",\"minYearlyIncrease\",\"subsetSum\",\"harv_cost_u150\"],\n",
    "   \n",
    "   \n",
    "}"
   ]
  },
  {
   "cell_type": "code",
   "execution_count": 18,
   "id": "37fe04e9-1315-4594-bfe4-6da208be6732",
   "metadata": {},
   "outputs": [],
   "source": [
    "Biodiversity = {\n",
    "    ## non decreasing MIS classified area (non decreasing total deadwood, \n",
    "    ## big trees (> 40cm) in old stands, big trees, and old stand with mixtures of broadleaves and conifers)\n",
    "     #constraints\n",
    "    \"MiSMaxMin\":[\"Not decreasing area of MiS classified plots (not decrease)\",\n",
    "                   \"Relative_MiS_ha\", \"max\",\"min\",\"sum\"], \n",
    "  \n",
    "}"
   ]
  },
  {
   "cell_type": "code",
   "execution_count": 19,
   "id": "f2918b5e-4f52-4f2f-ab9e-f82be78c1441",
   "metadata": {},
   "outputs": [],
   "source": [
    "Climate_regulation = {\n",
    "    ## maximize CO2 in HWP, and non-decreasing HWP compared to 2019    \n",
    "    \"CO2_HWP_increase\":[\"CO2_HWPMinimum yearly increase  (maximize\",\n",
    "                       \"HWP_C02_Kt_TotNor\", \"max\",\"minYearlyIncrease\",\"sum\"],\n",
    "    \n",
    "    #\"CO2_HWP_kt\": [\"Co2 storage in wooden products (maximize kilotonnnes over all years)\",\n",
    "            #       \"HWP_C02_Kt_TotNor\", \"max\",\"sum\",\"sum\"],\n",
    "\n",
    "}"
   ]
  },
  {
   "cell_type": "code",
   "execution_count": 20,
   "id": "ccca95b4-92de-49e6-9ffe-beb984f01c9e",
   "metadata": {},
   "outputs": [],
   "source": [
    "objectives = {\n",
    "    **Wood_production,\n",
    "    **Bionergy,\n",
    "    **Biodiversity,\n",
    "    **Climate_regulation,\n",
    "}"
   ]
  },
  {
   "cell_type": "code",
   "execution_count": 21,
   "id": "d4c76af8-2b80-427e-a8ed-afa7cf85b4c7",
   "metadata": {},
   "outputs": [
    {
     "data": {
      "text/plain": [
       "4"
      ]
     },
     "execution_count": 21,
     "metadata": {},
     "output_type": "execute_result"
    }
   ],
   "source": [
    "len(objectives)"
   ]
  },
  {
   "cell_type": "code",
   "execution_count": 22,
   "id": "c99f8a82-214a-4981-b2d4-878923d2f0e1",
   "metadata": {},
   "outputs": [
    {
     "data": {
      "text/plain": [
       "dict_keys(['harvest_netvalue_Mnok_sum', 'GROTIncreaseInHarvCost150', 'MiSMaxMin', 'CO2_HWP_increase'])"
      ]
     },
     "execution_count": 22,
     "metadata": {},
     "output_type": "execute_result"
    }
   ],
   "source": [
    "objectives.keys()"
   ]
  },
  {
   "cell_type": "code",
   "execution_count": 23,
   "id": "bf8e0141-fa23-4814-b599-bf9bfccb766c",
   "metadata": {
    "scrolled": true
   },
   "outputs": [
    {
     "data": {
      "text/plain": [
       "Index(['period', 'pulp_vol_m3', 'harv_cost_nok_m3', 'harv_cost_u150',\n",
       "       'harv_cost_u200', 'biomass_CO2_change_t_period', 'net_increment_m3',\n",
       "       'is_old', 'is_broadleave', 'MiS_classified_plot', 'bilberry_cover_pr',\n",
       "       'GROT_kt_TotNor', 'vol_saw_m3', 'saw_CO2_t', 'saw_CO2_change_t',\n",
       "       'vol_panels_m3', 'panels_CO2_t', 'panels_CO2_change_t',\n",
       "       'is_steep_terrain', 'is_vernskog', 'is_city_forest', 'shan',\n",
       "       'class_dbh', 'Nsp', 'ha2total', 'management', 'harv_net_Mnok_TotNor',\n",
       "       'harv_vol_Mm3_TotNor', 'saw_vol_Mm3_TotNor', 'pulp_vol_Mm3_TotNor',\n",
       "       'dead_vol_Mm3_TotNor', 'tsd_ha2total', 'saw_CO2_change_Kt_TotNor',\n",
       "       'saw_CO2_Kt_TotNor', 'panels_CO2_change_Kt_TotNor', 'HWP_C02_Kt_TotNor',\n",
       "       'Bilberry_ha_TotNor', 'MiS_ha', 'SawTimber_Mm3_year', 'pulp_Mm3_year',\n",
       "       'GROT_t', 'GROT_m3', 'GROT_Mm3', 'Residues_Mm3_year',\n",
       "       'harvest_demands_Mm3_year', 'regime.class', 'finalFelling', 'is_CCF',\n",
       "       'is_nomanagement', 'is_vers_or_ste', 'FinaL_versk', 'FinaL_city',\n",
       "       'High_classdbh', 'Sha_highclassdbh_Tot_Nor', 'Relative_shan',\n",
       "       'Relative_ha2total', 'Relative_dead_vol_Mm3_TotNor',\n",
       "       'Relative_tsd_ha2total', 'Relative_MiS_ha',\n",
       "       'Relative_Sha_highclassdbh_Tot_Nor'],\n",
       "      dtype='object')"
      ]
     },
     "execution_count": 23,
     "metadata": {},
     "output_type": "execute_result"
    }
   ],
   "source": [
    "mfo.data.columns"
   ]
  },
  {
   "cell_type": "code",
   "execution_count": 24,
   "id": "20f60bb9-55de-4b92-8fef-c65c26d889ad",
   "metadata": {},
   "outputs": [
    {
     "data": {
      "text/plain": [
       "'Defining objectives'"
      ]
     },
     "metadata": {},
     "output_type": "display_data"
    },
    {
     "data": {
      "text/plain": [
       "'Aggregating stand wise'"
      ]
     },
     "metadata": {},
     "output_type": "display_data"
    },
    {
     "name": "stderr",
     "output_type": "stream",
     "text": [
      "100%|████████████████████████████████████████████████████████████████████████████████████| 4/4 [02:18<00:00, 34.72s/it]\n"
     ]
    },
    {
     "data": {
      "text/plain": [
       "'Aggregating year wise'"
      ]
     },
     "metadata": {},
     "output_type": "display_data"
    },
    {
     "name": "stdout",
     "output_type": "stream",
     "text": [
      "100%|██████████████████████████████████████████████████████████████████████████████████| 4/4 [00:00<00:00, 3970.94it/s]\n"
     ]
    },
    {
     "data": {
      "text/plain": [
       "'Objectives added'"
      ]
     },
     "metadata": {},
     "output_type": "display_data"
    }
   ],
   "source": [
    "mfo.defineObjectives(objectiveTypes= objectives)"
   ]
  },
  {
   "cell_type": "code",
   "execution_count": 25,
   "id": "0515ebd6-e506-498d-94c0-53fb6ea6e499",
   "metadata": {},
   "outputs": [
    {
     "data": {
      "text/plain": [
       "'Calculating objective ranges'"
      ]
     },
     "metadata": {},
     "output_type": "display_data"
    },
    {
     "name": "stdout",
     "output_type": "stream",
     "text": [
      "  0%|                                                                                            | 0/4 [00:00<?, ?it/s]"
     ]
    },
    {
     "data": {
      "text/plain": [
       "'Optimizing for Maximize netvalue (MAX Millions nok/m2) max'"
      ]
     },
     "metadata": {},
     "output_type": "display_data"
    },
    {
     "data": {
      "text/plain": [
       "'Found an optimal solution in 9 seconds'"
      ]
     },
     "metadata": {},
     "output_type": "display_data"
    },
    {
     "data": {
      "text/plain": [
       "'Objective values are:'"
      ]
     },
     "metadata": {},
     "output_type": "display_data"
    },
    {
     "data": {
      "text/plain": [
       "'Maximize netvalue (MAX Millions nok/m2) max'"
      ]
     },
     "metadata": {},
     "output_type": "display_data"
    },
    {
     "data": {
      "text/plain": [
       "116664.77269522856"
      ]
     },
     "metadata": {},
     "output_type": "display_data"
    },
    {
     "data": {
      "text/plain": [
       "'Maximize GROT in plots with harvest cost under 150 (maX)'"
      ]
     },
     "metadata": {},
     "output_type": "display_data"
    },
    {
     "data": {
      "text/plain": [
       "-3489.6339597160218"
      ]
     },
     "metadata": {},
     "output_type": "display_data"
    },
    {
     "data": {
      "text/plain": [
       "'Not decreasing area of MiS classified plots (not decrease)'"
      ]
     },
     "metadata": {},
     "output_type": "display_data"
    },
    {
     "data": {
      "text/plain": [
       "0.0"
      ]
     },
     "metadata": {},
     "output_type": "display_data"
    },
    {
     "data": {
      "text/plain": [
       "'CO2_HWPMinimum yearly increase  (maximize'"
      ]
     },
     "metadata": {},
     "output_type": "display_data"
    },
    {
     "data": {
      "text/plain": [
       "-98136.41081620425"
      ]
     },
     "metadata": {},
     "output_type": "display_data"
    },
    {
     "name": "stdout",
     "output_type": "stream",
     "text": [
      " 25%|█████████████████████                                                               | 1/4 [00:09<00:28,  9.53s/it]"
     ]
    },
    {
     "data": {
      "text/plain": [
       "'Optimizing for Maximize GROT in plots with harvest cost under 150 (maX)'"
      ]
     },
     "metadata": {},
     "output_type": "display_data"
    },
    {
     "data": {
      "text/plain": [
       "'Found an optimal solution in 9 seconds'"
      ]
     },
     "metadata": {},
     "output_type": "display_data"
    },
    {
     "data": {
      "text/plain": [
       "'Objective values are:'"
      ]
     },
     "metadata": {},
     "output_type": "display_data"
    },
    {
     "data": {
      "text/plain": [
       "'Maximize netvalue (MAX Millions nok/m2) max'"
      ]
     },
     "metadata": {},
     "output_type": "display_data"
    },
    {
     "data": {
      "text/plain": [
       "41108.09766435941"
      ]
     },
     "metadata": {},
     "output_type": "display_data"
    },
    {
     "data": {
      "text/plain": [
       "'Maximize GROT in plots with harvest cost under 150 (maX)'"
      ]
     },
     "metadata": {},
     "output_type": "display_data"
    },
    {
     "data": {
      "text/plain": [
       "1674.0290214275988"
      ]
     },
     "metadata": {},
     "output_type": "display_data"
    },
    {
     "data": {
      "text/plain": [
       "'Not decreasing area of MiS classified plots (not decrease)'"
      ]
     },
     "metadata": {},
     "output_type": "display_data"
    },
    {
     "data": {
      "text/plain": [
       "0.0"
      ]
     },
     "metadata": {},
     "output_type": "display_data"
    },
    {
     "data": {
      "text/plain": [
       "'CO2_HWPMinimum yearly increase  (maximize'"
      ]
     },
     "metadata": {},
     "output_type": "display_data"
    },
    {
     "data": {
      "text/plain": [
       "-169065.97398410324"
      ]
     },
     "metadata": {},
     "output_type": "display_data"
    },
    {
     "name": "stdout",
     "output_type": "stream",
     "text": [
      " 50%|██████████████████████████████████████████                                          | 2/4 [00:18<00:18,  9.48s/it]"
     ]
    },
    {
     "data": {
      "text/plain": [
       "'Optimizing for Not decreasing area of MiS classified plots (not decrease)'"
      ]
     },
     "metadata": {},
     "output_type": "display_data"
    },
    {
     "data": {
      "text/plain": [
       "'Found an optimal solution in 10 seconds'"
      ]
     },
     "metadata": {},
     "output_type": "display_data"
    },
    {
     "data": {
      "text/plain": [
       "'Objective values are:'"
      ]
     },
     "metadata": {},
     "output_type": "display_data"
    },
    {
     "data": {
      "text/plain": [
       "'Maximize netvalue (MAX Millions nok/m2) max'"
      ]
     },
     "metadata": {},
     "output_type": "display_data"
    },
    {
     "data": {
      "text/plain": [
       "32040.983643748998"
      ]
     },
     "metadata": {},
     "output_type": "display_data"
    },
    {
     "data": {
      "text/plain": [
       "'Maximize GROT in plots with harvest cost under 150 (maX)'"
      ]
     },
     "metadata": {},
     "output_type": "display_data"
    },
    {
     "data": {
      "text/plain": [
       "-402.8068141162021"
      ]
     },
     "metadata": {},
     "output_type": "display_data"
    },
    {
     "data": {
      "text/plain": [
       "'Not decreasing area of MiS classified plots (not decrease)'"
      ]
     },
     "metadata": {},
     "output_type": "display_data"
    },
    {
     "data": {
      "text/plain": [
       "1.1073994995501548"
      ]
     },
     "metadata": {},
     "output_type": "display_data"
    },
    {
     "data": {
      "text/plain": [
       "'CO2_HWPMinimum yearly increase  (maximize'"
      ]
     },
     "metadata": {},
     "output_type": "display_data"
    },
    {
     "data": {
      "text/plain": [
       "-160865.08327368833"
      ]
     },
     "metadata": {},
     "output_type": "display_data"
    },
    {
     "name": "stdout",
     "output_type": "stream",
     "text": [
      " 75%|███████████████████████████████████████████████████████████████                     | 3/4 [00:29<00:09,  9.92s/it]"
     ]
    },
    {
     "data": {
      "text/plain": [
       "'Optimizing for CO2_HWPMinimum yearly increase  (maximize'"
      ]
     },
     "metadata": {},
     "output_type": "display_data"
    },
    {
     "data": {
      "text/plain": [
       "'Found an optimal solution in 59 seconds'"
      ]
     },
     "metadata": {},
     "output_type": "display_data"
    },
    {
     "data": {
      "text/plain": [
       "'Objective values are:'"
      ]
     },
     "metadata": {},
     "output_type": "display_data"
    },
    {
     "data": {
      "text/plain": [
       "'Maximize netvalue (MAX Millions nok/m2) max'"
      ]
     },
     "metadata": {},
     "output_type": "display_data"
    },
    {
     "data": {
      "text/plain": [
       "24555.069732536344"
      ]
     },
     "metadata": {},
     "output_type": "display_data"
    },
    {
     "data": {
      "text/plain": [
       "'Maximize GROT in plots with harvest cost under 150 (maX)'"
      ]
     },
     "metadata": {},
     "output_type": "display_data"
    },
    {
     "data": {
      "text/plain": [
       "-15410.638061317904"
      ]
     },
     "metadata": {},
     "output_type": "display_data"
    },
    {
     "data": {
      "text/plain": [
       "'Not decreasing area of MiS classified plots (not decrease)'"
      ]
     },
     "metadata": {},
     "output_type": "display_data"
    },
    {
     "data": {
      "text/plain": [
       "0.0"
      ]
     },
     "metadata": {},
     "output_type": "display_data"
    },
    {
     "data": {
      "text/plain": [
       "'CO2_HWPMinimum yearly increase  (maximize'"
      ]
     },
     "metadata": {},
     "output_type": "display_data"
    },
    {
     "data": {
      "text/plain": [
       "24610.332005254513"
      ]
     },
     "metadata": {},
     "output_type": "display_data"
    },
    {
     "name": "stdout",
     "output_type": "stream",
     "text": [
      "100%|████████████████████████████████████████████████████████████████████████████████████| 4/4 [01:28<00:00, 22.17s/it]\n"
     ]
    }
   ],
   "source": [
    "mfo.calculateObjectiveRanges()"
   ]
  },
  {
   "cell_type": "code",
   "execution_count": 41,
   "id": "756143e0-1037-4415-a570-50390ac14b36",
   "metadata": {},
   "outputs": [
    {
     "data": {
      "text/html": [
       "<style>\n",
       "            .widget-label { min-width: 60% !important; }\n",
       "        </style>"
      ],
      "text/plain": [
       "<IPython.core.display.HTML object>"
      ]
     },
     "metadata": {},
     "output_type": "display_data"
    },
    {
     "data": {
      "text/html": [
       "<h2>Epsilon constraint values</h2>"
      ],
      "text/plain": [
       "<IPython.core.display.HTML object>"
      ]
     },
     "metadata": {},
     "output_type": "display_data"
    },
    {
     "data": {
      "application/vnd.jupyter.widget-view+json": {
       "model_id": "4750256e763345729a62cd315a82e5b3",
       "version_major": 2,
       "version_minor": 0
      },
      "text/plain": [
       "interactive(children=(FloatSlider(value=24555.069732536344, description='Maximize netvalue (MAX Millions nok/m…"
      ]
     },
     "metadata": {},
     "output_type": "display_data"
    },
    {
     "data": {
      "text/html": [
       "<h2>Reference point</h2>"
      ],
      "text/plain": [
       "<IPython.core.display.HTML object>"
      ]
     },
     "metadata": {},
     "output_type": "display_data"
    },
    {
     "data": {
      "application/vnd.jupyter.widget-view+json": {
       "model_id": "05e4c7aabe344332bc45d47f59015026",
       "version_major": 2,
       "version_minor": 0
      },
      "text/plain": [
       "interactive(children=(FloatSlider(value=70609.92121388245, description='Maximize netvalue (MAX Millions nok/m2…"
      ]
     },
     "metadata": {},
     "output_type": "display_data"
    },
    {
     "data": {
      "text/html": [
       "<h2>Enabled constraints</h2>"
      ],
      "text/plain": [
       "<IPython.core.display.HTML object>"
      ]
     },
     "metadata": {},
     "output_type": "display_data"
    },
    {
     "data": {
      "application/vnd.jupyter.widget-view+json": {
       "model_id": "f9b04d846a764ee288a4d26d734b2760",
       "version_major": 2,
       "version_minor": 0
      },
      "text/plain": [
       "interactive(children=(Button(description='Change constraints', style=ButtonStyle()), Output()), _dom_classes=(…"
      ]
     },
     "metadata": {},
     "output_type": "display_data"
    },
    {
     "data": {
      "application/vnd.jupyter.widget-view+json": {
       "model_id": "1120933c1dd949bb817a770fa5415054",
       "version_major": 2,
       "version_minor": 0
      },
      "text/plain": [
       "Button(description='Print solution', style=ButtonStyle())"
      ]
     },
     "metadata": {},
     "output_type": "display_data"
    }
   ],
   "source": [
    "mfo.showGUI()"
   ]
  },
  {
   "cell_type": "code",
   "execution_count": 43,
   "id": "451f19b5-2c2a-4fc6-a8cc-6c603ae2c184",
   "metadata": {},
   "outputs": [],
   "source": [
    "import pandas as pd"
   ]
  },
  {
   "cell_type": "code",
   "execution_count": 45,
   "id": "c8dc01a6-2624-4040-8601-74583e5e3b50",
   "metadata": {},
   "outputs": [],
   "source": [
    "import os\n",
    "\n",
    "try:\n",
    "    os.mkdir(\"results\")\n",
    "except FileExistsError:\n",
    "    pass\n",
    "b = []\n",
    "c = []\n",
    "for key in mfo.regimesDecision.keys():\n",
    "    if mfo.regimesDecision[key].solution_value() > 0:\n",
    "        b = b+ [(key[0],x*5+2018, key[1]) for x in range(0,22)]\n",
    "        c = c+ [(key[0],key[1],mfo.regimesDecision[key].solution_value())]\n",
    "data2b = mfo.data.iloc[mfo.data.index.isin(b)]\n",
    "data2b.to_csv(\"./results/solution_alldata_Assess4EST_RCP45.csv\")\n",
    "c1 = pd.DataFrame(c)\n",
    "c1.to_csv(\"./results/solution_Assess4EST_RCP45.csv\")"
   ]
  },
  {
   "cell_type": "code",
   "execution_count": 47,
   "id": "77f53fb1-cd18-4004-8561-589f6115da88",
   "metadata": {},
   "outputs": [],
   "source": [
    "import json\n",
    "mfo.objectiveRanges\n",
    "\n",
    "with open(\"results/objectiveRanges_Assess4EST_RCP45.json\", \"w\") as json_file:\n",
    "    json.dump(mfo.objectiveRanges, json_file)"
   ]
  },
  {
   "cell_type": "code",
   "execution_count": 49,
   "id": "932b4fc2-cc77-4c6b-bdf0-9157baeba7e5",
   "metadata": {},
   "outputs": [],
   "source": [
    "import pandas\n",
    "df = pandas.read_json(\"results/objectiveRanges_Assess4EST_RCP45.json\")\n",
    "df.to_csv(\"results/objectiveRanges_Assess4EST_RCP45.csv\")"
   ]
  },
  {
   "cell_type": "code",
   "execution_count": 51,
   "id": "1576c892-0652-4133-956e-4d70e7c578c1",
   "metadata": {},
   "outputs": [],
   "source": [
    "import os\n",
    "with open(\"./results/objectiveValues_Assess4EST_RCP45.csv\",\"w\") as file: \n",
    "    delim = \"\" \n",
    "    for objName in mfo.objectiveTypes.keys():\n",
    "        file.write(delim+objName) \n",
    "        delim = \",\" \n",
    "    file.write(\"\\n\") \n",
    "    delim = \"\" \n",
    "    for objName in mfo.objectiveTypes.keys():\n",
    "            file.write(delim+str(mfo.objective[objName].solution_value())) \n",
    "            delim = \",\" \n",
    "    file.write(\"\\n\")"
   ]
  },
  {
   "cell_type": "code",
   "execution_count": null,
   "id": "886687df-f936-4ec3-8889-e225cdbafc6f",
   "metadata": {},
   "outputs": [],
   "source": []
  }
 ],
 "metadata": {
  "kernelspec": {
   "display_name": "Python 3 (ipykernel)",
   "language": "python",
   "name": "python3"
  },
  "language_info": {
   "codemirror_mode": {
    "name": "ipython",
    "version": 3
   },
   "file_extension": ".py",
   "mimetype": "text/x-python",
   "name": "python",
   "nbconvert_exporter": "python",
   "pygments_lexer": "ipython3",
   "version": "3.12.3"
  }
 },
 "nbformat": 4,
 "nbformat_minor": 5
}
